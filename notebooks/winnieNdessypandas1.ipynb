{
 "cells": [
  {
   "cell_type": "code",
   "execution_count": null,
   "metadata": {},
   "outputs": [],
   "source": [
    "import pandas as pd\n",
    "import numpy as np\n",
    "import pprint as pprint\n",
    "import time\n"
   ]
  },
  {
   "cell_type": "markdown",
   "metadata": {},
   "source": [
    "### Loadind data from csv files into datafreames\n"
   ]
  },
  {
   "cell_type": "code",
   "execution_count": null,
   "metadata": {},
   "outputs": [],
   "source": [
    "# Restaurants\n",
    "dfaccepts=pd.read_csv(filepath_or_buffer='Restaurant-data/chefmozaccepts.csv',encoding='ascii')\n",
    "dfcuisine=pd.read_csv(filepath_or_buffer='Restaurant-data/chefmozcuisine.csv',encoding='utf8')\n",
    "dfhours4=pd.read_csv(filepath_or_buffer='Restaurant-data/chefmozhours4.csv',encoding='utf8')\n",
    "dfparkingdata2=pd.read_csv('Restaurant-data/chefmozparking.csv')\n",
    "dfgeoplaces=pd.read_csv(filepath_or_buffer='Restaurant-data/geoplaces2.csv',encoding='latin-1')\n",
    "# # consumers\n",
    "dfusercuisine=pd.read_csv('Restaurant-data/usercuisine.csv')\n",
    "dfuserpayment=pd.read_csv('Restaurant-data/userpayment.csv')\n",
    "dfuserprofile=pd.read_csv('Restaurant-data/userprofile.csv')\n",
    "# user item rating\n",
    "dfrating=pd.read_csv('Restaurant-data/rating_final.csv')\n"
   ]
  },
  {
   "cell_type": "markdown",
   "metadata": {},
   "source": [
    "###  Data cleaning"
   ]
  },
  {
   "cell_type": "code",
   "execution_count": null,
   "metadata": {},
   "outputs": [],
   "source": [
    "# To perform general cleaning on all datasets and inspecting\n",
    "def cleandf(data):\n",
    "    data.replace('?',np.NaN,inplace=True)\n",
    "    print('no. of DUBLICATES', data.duplicated().sum(axis=0))\n",
    "    print('NULL ROWS',data.isnull().sum(axis=0))\n",
    "    data.drop_duplicates(inplace = True)\n",
    "#     adult['sex'].map(lambda x: x.lower()).head()\n",
    "    print(data.shape)\n",
    "    return 0\n",
    "cleandf(dfaccepts)\n",
    "cleandf(dfgeoplaces)\n",
    "cleandf(dfparkingdata2)\n",
    "cleandf(dfhours4)\n",
    "cleandf(dfcuisine)\n",
    "cleandf(dfusercuisine)\n",
    "cleandf(dfuserpayment)\n",
    "cleandf(dfuserprofile)\n",
    "cleandf(dfrating)\n",
    "\n",
    "\n"
   ]
  },
  {
   "cell_type": "code",
   "execution_count": null,
   "metadata": {},
   "outputs": [],
   "source": [
    "# data cleaning\n",
    "# replace all ? with nan\n",
    "def cleandfgeoplaces():\n",
    "    dfgeoplaces.isnull().sum(axis=0)\n",
    "    # Drop null collunms bellow a given threshhod here 74. Removes zip,url and fax\n",
    "    dfgeoplaces.dropna(thresh=74,axis=1,inplace=True)\n",
    "    print (dfgeoplaces.isnull().sum(axis=0))\n",
    "    print('Null rows ', dfgeoplaces.isnull().sum(axis=1))\n",
    "    return 0\n",
    "cleandfgeoplaces()\n"
   ]
  },
  {
   "cell_type": "code",
   "execution_count": 181,
   "metadata": {},
   "outputs": [],
   "source": [
    "def dfhours4clean():\n",
    "#    removing multiple ranges data fro hours collumn\n",
    "    dfhours4.hours=dfhours4.hours.map(lambda x:re.split(';',x)[0])\n",
    "#     dfhours4.hours.\n",
    "    fromto = pd.DataFrame(dfhours4.hours.str.split('-',1).tolist(), columns = ['fromhour','tohour'])\n",
    "    hourRange=pd.concat([dfhours4, fromto], axis=1, sort=False)\n",
    "    return hourRange \n",
    "dfhours4clean()\n",
    "dfhours41=dfhours4clean()\n"
   ]
  },
  {
   "cell_type": "markdown",
   "metadata": {},
   "source": [
    "### Queries"
   ]
  },
  {
   "cell_type": "markdown",
   "metadata": {},
   "source": [
    "#### Assignment2  Part 1:"
   ]
  },
  {
   "cell_type": "code",
   "execution_count": null,
   "metadata": {},
   "outputs": [],
   "source": [
    "# 2.1.3. What are the names of different restaurants in the state of ‘tamaulipas’?\n",
    "# select where name is tamaulipas\n",
    "dfgeoplaces.loc[:,['name']][(dfgeoplaces.state=='tamaulipas')]\n"
   ]
  },
  {
   "cell_type": "code",
   "execution_count": null,
   "metadata": {},
   "outputs": [],
   "source": [
    "# 2.1.4. How many different customers used public transport for going to therestaurants?\n",
    "len(dfuserprofile[dfuserprofile['transport']=='public'])\n"
   ]
  },
  {
   "cell_type": "code",
   "execution_count": null,
   "metadata": {},
   "outputs": [],
   "source": [
    "# 2.1.5. What is the least popular payment method among customers?\n",
    "min(dfuserpayment.groupby('Upayment'))\n"
   ]
  },
  {
   "cell_type": "code",
   "execution_count": 186,
   "metadata": {},
   "outputs": [
    {
     "data": {
      "text/plain": [
       "48"
      ]
     },
     "execution_count": 186,
     "metadata": {},
     "output_type": "execute_result"
    }
   ],
   "source": [
    "# 2.1.6. How many (different) restaurants work until 19:00 in the evenings?\n",
    "\n",
    "# Clean the hours dataframe before using it to query\n",
    "dfcleanHours4=dfhours4clean()\n",
    "len(dfhours41[['placeID']][dfhours41.tohour=='19:00'])\n"
   ]
  },
  {
   "cell_type": "code",
   "execution_count": null,
   "metadata": {},
   "outputs": [],
   "source": [
    "# 2.1.7. Which type of food (rcuisine) is served most among the restaurants?\n",
    "dfcuisine[['Rcuisine']].mode()\n"
   ]
  },
  {
   "cell_type": "code",
   "execution_count": null,
   "metadata": {},
   "outputs": [],
   "source": [
    "# 2.1.8. What is the percentage of customers who were born between 1980 and 1990?\n",
    "len(dfuserprofile[(dfuserprofile.birth_year>=1980) & (dfuserprofile.birth_year<=1990)])/len(dfuserprofile)*100"
   ]
  },
  {
   "cell_type": "code",
   "execution_count": null,
   "metadata": {},
   "outputs": [],
   "source": [
    "# 2.1.9. What is the percentage of students with a medium budget preferring walking to the restaurants?\n",
    "len(dfuserprofile[(dfuserprofile.budget=='medium') &(dfuserprofile.transport=='on foot')])/len(dfuserprofile[(dfuserprofile.budget=='medium')])*100\n"
   ]
  },
  {
   "cell_type": "markdown",
   "metadata": {},
   "source": [
    "#### Assignment2  Part 2:"
   ]
  },
  {
   "cell_type": "code",
   "execution_count": null,
   "metadata": {},
   "outputs": [],
   "source": [
    "# 2.2.1. What are the names of restaurants that do not have public parking lots?\n",
    "dfgeoplaces[['placeID','name']].merge(dfparkingdata2[dfparkingdata2.parking_lot!='public'],how='inner',on='placeID').name"
   ]
  },
  {
   "cell_type": "code",
   "execution_count": null,
   "metadata": {},
   "outputs": [],
   "source": [
    "# 2.2.2. What are the addresses of restaurants which only accept ‘cash’?\n",
    "dfgeoplaces.merge(dfaccepts[dfaccepts.Rpayment=='cash'],on='placeID',how='inner').address\n"
   ]
  },
  {
   "cell_type": "code",
   "execution_count": null,
   "metadata": {},
   "outputs": [],
   "source": [
    "# 2.2.3. Name the cities where the restaurants cook and serve ‘fast food’?\n",
    "\n",
    "dfgeoplaces[['placeID','city']].merge(dfcuisine[dfcuisine.Rcuisine=='Fast_Food'],how='inner',on='placeID').city ##names not distict=== to add distinct\n"
   ]
  },
  {
   "cell_type": "code",
   "execution_count": null,
   "metadata": {},
   "outputs": [],
   "source": [
    "# 2.2.4. What is the most common ‘rating’ among customers with family?\n",
    "\n",
    "dfrating[['userID','rating']].merge(dfuserprofile[dfuserprofile.ambience=='family'],on='userID',how='inner').rating.mode()\n"
   ]
  },
  {
   "cell_type": "code",
   "execution_count": null,
   "metadata": {},
   "outputs": [],
   "source": [
    "# 2.2.5. What types of food (‘rcuisine’) received the highest rank from people with‘low’ budget?\n",
    "\n",
    "#filter each dataset by conditions and merging the filtered datasets \n",
    "food=dfcuisine.merge(dfrating[['userID','placeID','food_rating']],on='placeID',how='left').merge(dfuserprofile[['userID','budget']][dfuserprofile.budget=='low'],on='userID',how='inner')\n",
    "#grouping the merged output by rquisin and getting sum for each cuisine\n",
    "groupedSum=food.groupby('Rcuisine').sum()\n",
    "#get the maximum Id value based on the collum foodrating\n",
    "groupedSum.food_rating.idxmax()\n"
   ]
  },
  {
   "cell_type": "code",
   "execution_count": null,
   "metadata": {},
   "outputs": [],
   "source": [
    "# 2.2.6. What is the average of ‘service rating’, received from ‘social drinkers’ about restaurants which just served ‘Wine-Beer’?\n",
    "\n",
    "# getting service rating for social drinkers\n",
    "label=dfrating[['userID','placeID','service_rating']].merge(dfuserprofile[['drink_level','userID']][dfuserprofile.drink_level=='social drinker'],on='userID',how='inner')\n",
    "label2=label.merge(dfgeoplaces[['placeID']][dfgeoplaces.alcohol=='Wine-Beer'],on='placeID',how='inner')\n",
    "#calculating the average\n",
    "label2.service_rating.mean(axis=0)\n"
   ]
  },
  {
   "cell_type": "code",
   "execution_count": null,
   "metadata": {},
   "outputs": [],
   "source": [
    "# 2.2.7. How many smokers gave zero ‘service rating’ to the restaurants without an open area?\n",
    "len(dfuserprofile[dfuserprofile.smoker=='true'].merge(dfrating[dfrating.service_rating==0], on='userID',how='inner').merge(dfgeoplaces[dfgeoplaces.area!='open'],on='placeID',how='inner'))\n",
    "#================================="
   ]
  },
  {
   "cell_type": "code",
   "execution_count": null,
   "metadata": {},
   "outputs": [],
   "source": [
    "# 2.2.8. Find the correlation between different rating categories ((general) rating, food_rating, service_rating) with the price levels of the restaurants.\n",
    "# Hint: To answer the last question, you need to change the type of attribute values\n",
    "\n",
    "restaurantsRating=dfgeoplaces[['placeID','price']].merge(dfrating, on='placeID', how='inner')\n",
    "# from categorical to numerical.\n",
    "price=restaurantsRating.price.map(lambda x: 1 if x == 'low' else 2 if x=='medium' else 3 ) # let 1=low ,2=medium,3=high\n",
    "\n",
    "print('between price and general rating= ',price.corr(restaurantsRating.rating))\n",
    "print('between price and food rating= ',price.corr(restaurantsRating.food_rating))\n",
    "print ('between price and Service rating= ',price.corr(restaurantsRating.service_rating))\n"
   ]
  },
  {
   "cell_type": "code",
   "execution_count": null,
   "metadata": {},
   "outputs": [],
   "source": []
  }
 ],
 "metadata": {
  "kernelspec": {
   "display_name": "Python 3",
   "language": "python",
   "name": "python3"
  },
  "language_info": {
   "codemirror_mode": {
    "name": "ipython",
    "version": 3
   },
   "file_extension": ".py",
   "mimetype": "text/x-python",
   "name": "python",
   "nbconvert_exporter": "python",
   "pygments_lexer": "ipython3",
   "version": "3.6.5"
  }
 },
 "nbformat": 4,
 "nbformat_minor": 2
}
