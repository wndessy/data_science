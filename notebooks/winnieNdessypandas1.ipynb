{
 "cells": [
  {
   "cell_type": "code",
   "execution_count": null,
   "metadata": {},
   "outputs": [],
   "source": [
    "import pandas as pd\n",
    "import numpy as np\n",
    "import pprint as pprint\n",
    "import time\n"
   ]
  },
  {
   "cell_type": "markdown",
   "metadata": {},
   "source": [
    "###Loadind data from csv files into datafreames\n"
   ]
  },
  {
   "cell_type": "code",
   "execution_count": null,
   "metadata": {},
   "outputs": [],
   "source": [
    "# Restaurants\n",
    "dfaccepts=pd.read_csv(filepath_or_buffer='Restaurant-data/chefmozaccepts.csv',encoding='ascii')\n",
    "dfcuisine=pd.read_csv(filepath_or_buffer='Restaurant-data/chefmozcuisine.csv',encoding='utf8')\n",
    "dfhours4=pd.read_csv(filepath_or_buffer='Restaurant-data/chefmozhours4.csv',encoding='utf8')\n",
    "dfparkingdata2=pd.read_csv('Restaurant-data/chefmozparking.csv')\n",
    "dfgeoplaces=pd.read_csv(filepath_or_buffer='Restaurant-data/geoplaces2.csv',encoding='latin-1')\n",
    "# # consumers\n",
    "dfusercuisine=pd.read_csv('Restaurant-data/usercuisine.csv')\n",
    "dfuserpayment=pd.read_csv('Restaurant-data/userpayment.csv')\n",
    "dfuserprofile=pd.read_csv('Restaurant-data/userprofile.csv')\n",
    "# user item rating\n",
    "dfrating=pd.read_csv('Restaurant-data/rating_final.csv')\n"
   ]
  },
  {
   "cell_type": "markdown",
   "metadata": {},
   "source": [
    "###cleaning Data "
   ]
  },
  {
   "cell_type": "code",
   "execution_count": null,
   "metadata": {},
   "outputs": [],
   "source": [
    "# data cleaning\n",
    "##Geopplaces\n",
    "# replace all ? with nan\n",
    "def cleandfgeoplaces():\n",
    "    withoutqm=dfgeoplaces.replace('?',np.NaN)\n",
    "#     nulvalues=withoutqm.isnull()\n",
    "    withoutqm.isnull().sum(axis=0)\n",
    "    # Drop null collunms bellow a given threshhod here 74. Removes zip,url and fax\n",
    "    droppedCollumns=withoutqm.dropna(thresh=74,axis=1)\n",
    "    clean=droppedCollumns.isnull().sum(axis=0)\n",
    "    # droppedCollumns.isnull().sum(axis=1)\n",
    "    \n",
    "    #replace nul adresses with labels unnamed address1\n",
    "  \n",
    "    return clean\n",
    "\n",
    "# cleandfgeoplaces()\n",
    "def cleandfuserprofile():\n",
    "    # find and replace all questionmarks with NAN \n",
    "    withoutqm=dfuserprofile.replace('?',np.NaN)\n",
    "    clean=withoutqm.isnull().sum(axis=0)\n",
    "    return dfuserprofile\n",
    "\n",
    "\n",
    "def cleandf(data):\n",
    "    data.replace('?',np.NaN,inplace=True)\n",
    "    print('no. of duplicates', data.duplicated().sum(axis=0))\n",
    "    print('null rows',data.isnull().sum(axis=0))\n",
    "    data.drop_duplicates(inplace = True)\n",
    "#     adult['sex'].map(lambda x: x.lower()).head()\n",
    "    print(data.describe())\n",
    "    return 0\n",
    "\n",
    "import re\n",
    "\n",
    "def cleanHours(x):\n",
    "     result = re.split(';|-',x)\n",
    "#     return result[0],result[1]\n",
    "\n",
    "def dfhours4clean():\n",
    "    res= dfhours4.hours.map(lambda x:cleanHours(x))\n",
    "    return dfhours4.hours\n",
    "#     check for and remove dublicates\n",
    "# check and interpolate Nan values\n",
    "# check on the dates that are erronious and resolve\n",
    "# general cleaning()\n",
    "#to use apply groupby to fill in collumns with mean vallues of the clossest collumns\n",
    "\n",
    "# dfhours4clean()\n",
    "\n",
    "# time.strptime(\"30 Nov 00\", \"%d %b %y\")\n",
    "\n"
   ]
  },
  {
   "cell_type": "code",
   "execution_count": null,
   "metadata": {},
   "outputs": [],
   "source": [
    "# 2.1.3. What are the names of different restaurants in the state of ‘tamaulipas’?\n",
    "# select where name is tamaulipas\n",
    "dfgeoplaces.loc[:,['name']][(dfgeoplaces.state=='tamaulipas')]\n"
   ]
  },
  {
   "cell_type": "code",
   "execution_count": null,
   "metadata": {},
   "outputs": [],
   "source": [
    "# 2.1.4. How many different customers used public transport for going to therestaurants?\n",
    "len(dfuserprofile[dfuserprofile['transport']=='public'])\n"
   ]
  },
  {
   "cell_type": "code",
   "execution_count": null,
   "metadata": {},
   "outputs": [],
   "source": [
    "# 2.1.5. What is the least popular payment method among customers?\n",
    "min(dfuserpayment.groupby('Upayment'))\n"
   ]
  },
  {
   "cell_type": "code",
   "execution_count": null,
   "metadata": {},
   "outputs": [],
   "source": [
    "# 2.1.6. How many (different) restaurants work until 19:00 in the evenings?\n",
    "# len(dfhours4[dfhours4=='00:00-19:00'])\n",
    "dfhours4.hours\n",
    "# pd.to_timedelta(dfhours4.hours)"
   ]
  },
  {
   "cell_type": "code",
   "execution_count": null,
   "metadata": {},
   "outputs": [],
   "source": [
    "# 2.1.7. Which type of food (rcuisine) is served most among the restaurants?\n",
    "dfcuisine[['Rcuisine']].mode()\n"
   ]
  },
  {
   "cell_type": "code",
   "execution_count": null,
   "metadata": {},
   "outputs": [],
   "source": [
    "# 2.1.8. What is the percentage of customers who were born between 1980 and 1990?\n",
    "len(dfuserprofile[(dfuserprofile.birth_year>=1980) & (dfuserprofile.birth_year<=1990)])/len(dfuserprofile)*100"
   ]
  },
  {
   "cell_type": "code",
   "execution_count": null,
   "metadata": {},
   "outputs": [],
   "source": [
    "# 2.1.9. What is the percentage of students with a medium budget preferring walking to the restaurants?\n",
    "len(dfuserprofile[(dfuserprofile.budget=='medium') &(dfuserprofile.transport=='on foot')])/len(dfuserprofile)*100\n"
   ]
  },
  {
   "cell_type": "markdown",
   "metadata": {},
   "source": [
    "###Assignment2- Part 2:"
   ]
  },
  {
   "cell_type": "code",
   "execution_count": null,
   "metadata": {},
   "outputs": [],
   "source": [
    "# 2.2.1. What are the names of restaurants that do not have public parking lots?\n",
    "dfgeoplaces[['placeID','name']].merge(dfparkingdata2[dfparkingdata2.parking_lot!='public'],how='inner',on='placeID').name"
   ]
  },
  {
   "cell_type": "code",
   "execution_count": null,
   "metadata": {},
   "outputs": [],
   "source": [
    "# 2.2.2. What are the addresses of restaurants which only accept ‘cash’?\n",
    "dfgeoplaces.merge(dfaccepts[dfaccepts.Rpayment=='cash'],on='placeID',how='inner').address\n"
   ]
  },
  {
   "cell_type": "code",
   "execution_count": null,
   "metadata": {},
   "outputs": [],
   "source": [
    "# 2.2.3. Name the cities where the restaurants cook and serve ‘fast food’?\n",
    "\n",
    "dfgeoplaces[['placeID','city']].merge(dfcuisine[dfcuisine.Rcuisine=='Fast_Food'],how='inner',on='placeID').city ##names not distict=== to add distinct\n"
   ]
  },
  {
   "cell_type": "code",
   "execution_count": null,
   "metadata": {},
   "outputs": [],
   "source": [
    "# 2.2.4. What is the most common ‘rating’ among customers with family?\n",
    "\n",
    "dfrating[['userID','rating']].merge(dfuserprofile[dfuserprofile.ambience=='family'],on='userID',how='inner').rating.mode()\n"
   ]
  },
  {
   "cell_type": "code",
   "execution_count": null,
   "metadata": {},
   "outputs": [],
   "source": [
    "# 2.2.5. What types of food (‘rcuisine’) received the highest rank from people with‘low’ budget?\n",
    "\n",
    "#filter each dataset by conditions and merging the filtered datasets \n",
    "food=dfcuisine.merge(dfrating[['userID','placeID','food_rating']],on='placeID',how='left').merge(dfuserprofile[['userID','budget']][dfuserprofile.budget=='low'],on='userID',how='inner')\n",
    "#grouping the merged output by rquisin and getting sum for each cuisine\n",
    "groupedSum=food.groupby('Rcuisine').sum()\n",
    "#get the maximum Id value based on the collum foodrating\n",
    "groupedSum.food_rating.idxmax()\n"
   ]
  },
  {
   "cell_type": "code",
   "execution_count": null,
   "metadata": {},
   "outputs": [],
   "source": [
    "# 2.2.6. What is the average of ‘service rating’, received from ‘social drinkers’ about restaurants which just served ‘Wine-Beer’?\n",
    "\n",
    "\n",
    "label=dfrating[['userID','placeID','service_rating']].merge(dfuserprofile[['drink_level','userID']][dfuserprofile.drink_level=='social drinker'],on='userID',how='inner')\n",
    "label2=label.merge(dfgeoplaces[['placeID']][dfgeoplaces.alcohol=='Wine-Beer'],on='placeID',how='inner')\n",
    "label2.service_rating.mean(axis=0)\n"
   ]
  },
  {
   "cell_type": "code",
   "execution_count": null,
   "metadata": {},
   "outputs": [],
   "source": [
    "# 2.2.7. How many smokers gave zero ‘service rating’ to the restaurants without an open area?\n",
    "len(dfuserprofile[dfuserprofile.smoker=='true'].merge(dfrating[dfrating.service_rating==0], on='userID',how='inner').merge(dfgeoplaces[dfgeoplaces.area!='open'],on='placeID',how='inner'))\n",
    "#================================="
   ]
  },
  {
   "cell_type": "code",
   "execution_count": null,
   "metadata": {},
   "outputs": [],
   "source": [
    "# 2.2.8. Find the correlation between different rating categories ((general) rating, food_rating, service_rating) with the price levels of the restaurants.\n",
    "# Hint: To answer the last question, you need to change the type of attribute values\n",
    "# from categorical to numerical.\n",
    "dfrating.corr\n",
    "dfgeoplaces.price.map(lambda x: 1 if x == 'low' else 2 if x=='medium' else 3 ) # let 1=low ,2=medium,3=high\n",
    "dfrating.rating.corr(dfrating.food_rating)\n",
    "dfrating.rating.corr(dfrating.service_rating)\n"
   ]
  },
  {
   "cell_type": "code",
   "execution_count": null,
   "metadata": {},
   "outputs": [],
   "source": []
  }
 ],
 "metadata": {
  "kernelspec": {
   "display_name": "Python 3",
   "language": "python",
   "name": "python3"
  },
  "language_info": {
   "codemirror_mode": {
    "name": "ipython",
    "version": 3
   },
   "file_extension": ".py",
   "mimetype": "text/x-python",
   "name": "python",
   "nbconvert_exporter": "python",
   "pygments_lexer": "ipython3",
   "version": "3.6.5"
  }
 },
 "nbformat": 4,
 "nbformat_minor": 2
}
