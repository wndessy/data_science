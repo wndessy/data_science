{
 "cells": [
  {
   "cell_type": "code",
   "execution_count": null,
   "metadata": {},
   "outputs": [],
   "source": [
    "Assignment 3\n",
    "In this assignment, you will provide answers for the questions from Assignment\n",
    "2, through making SQL databases and SQL queries, using a Pandas module\n",
    "known as ‘sqlalchemy’.\n",
    "\n",
    "3.1. Concatenate all cleaned data frames from ‘Restaurant’ category based on the\n",
    "common column, to create a large data frame and name it as Restaurants.\n",
    "\n",
    "3.2. Concatenate all cleaned data frames from ‘Customer’ categories based on the\n",
    "common column, to create a large data frame and name it as Customers.\n",
    "\n",
    "3.3. Import the required package and create an engine for the sqlalchemy\n",
    "application:\n",
    "import sqlalchemy as sqla\n",
    "db = sqla.create_engine(‘sqlite://’, echo=False)\n",
    "\n",
    "3.4. Create three SQL tables from three data frames: ‘Restaurants’, ‘Customers’\n",
    "which are created above, and the database from ‘rate’ category. The required\n",
    "syntax for creating each table is as follows:\n",
    "•df.to_sql (table name, db)\n",
    "Where ‘df’ is the given Pandas data frame, ‘table name’ is the table name chosen\n",
    "for the data frame and ‘db’ is the created engine from the previous step.\n",
    "\n",
    "3.5. Answer all the questions from the previous assignment (Assignment 2), using\n",
    "SQL queries; except for Question 2.2.8 which is not needed to be answered in\n",
    "Assignment 3.\n",
    "\n",
    "Use the following command to query the databases:\n",
    "• pd.read_sql(query, db), where ‘query’ is the SQL query for answering the\n",
    "question."
   ]
  }
 ],
 "metadata": {
  "kernelspec": {
   "display_name": "Python 3",
   "language": "python",
   "name": "python3"
  },
  "language_info": {
   "codemirror_mode": {
    "name": "ipython",
    "version": 3
   },
   "file_extension": ".py",
   "mimetype": "text/x-python",
   "name": "python",
   "nbconvert_exporter": "python",
   "pygments_lexer": "ipython3",
   "version": "3.6.5"
  }
 },
 "nbformat": 4,
 "nbformat_minor": 2
}
