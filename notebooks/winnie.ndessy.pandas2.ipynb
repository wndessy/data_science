{
 "cells": [
  {
   "cell_type": "code",
   "execution_count": null,
   "metadata": {},
   "outputs": [],
   "source": [
    "import pandas as pd\n",
    "import numpy as np\n",
    "import pprint as pprint"
   ]
  },
  {
   "cell_type": "code",
   "execution_count": null,
   "metadata": {},
   "outputs": [],
   "source": [
    "# Restaurants\n",
    "dfaccepts=pd.read_csv(filepath_or_buffer='Restaurant-data/chefmozaccepts.csv',encoding='ascii')\n",
    "dfcuisine=pd.read_csv(filepath_or_buffer='Restaurant-data/chefmozcuisine.csv',encoding='utf8')\n",
    "dfhours4=pd.read_csv(filepath_or_buffer='Restaurant-data/chefmozhours4.csv',encoding='utf8')\n",
    "dfparkingdata2=pd.read_csv('Restaurant-data/chefmozparking.csv')\n",
    "dfgeoplaces=pd.read_csv(filepath_or_buffer='Restaurant-data/geoplaces2.csv',encoding='latin-1')\n",
    "# # consumers\n",
    "dfusercuisine=pd.read_csv('Restaurant-data/usercuisine.csv')\n",
    "dfuserpayment=pd.read_csv('Restaurant-data/userpayment.csv')\n",
    "dfuserprofile=pd.read_csv('Restaurant-data/userprofile.csv')\n",
    "# # user item rating\n",
    "dfrating=pd.read_csv('Restaurant-data/rating_final.csv')\n"
   ]
  },
  {
   "cell_type": "code",
   "execution_count": null,
   "metadata": {},
   "outputs": [],
   "source": [
    "# 3.1. Concatenate all cleaned data frames from ‘Restaurant’ category based on the common column, to create a large data frame and name it as Restaurants.\n",
    "dfrestaurants=dfgeoplaces.merge(dfcuisine,how='left',on='placeID').merge(dfhours4,how='left',on='placeID').merge(dfaccepts,how='left',on='placeID').merge(dfparkingdata2,how='left',on='placeID')\n",
    "dfrestaurants.shape"
   ]
  },
  {
   "cell_type": "code",
   "execution_count": null,
   "metadata": {},
   "outputs": [],
   "source": [
    "# 3.2. Concatenate all cleaned data frames from ‘Customer’ categories based on the common column, to create a large data frame and name it as Customers.\n",
    "dfcustomers=dfuserprofile.merge(dfuserpayment,on='userID',how='left').merge(dfusercuisine, on='userID' , how='left')\n",
    "dfcustomers.shape"
   ]
  },
  {
   "cell_type": "code",
   "execution_count": null,
   "metadata": {},
   "outputs": [],
   "source": [
    "# 3.3. Import the required package and create an engine for the sqlalchemy application:\n",
    "import sqlalchemy as sqla\n",
    "engine = sqla.create_engine('sqlite:///data_science.db',echo=False)\n"
   ]
  },
  {
   "cell_type": "code",
   "execution_count": null,
   "metadata": {},
   "outputs": [],
   "source": [
    "# 3.4. Create three SQL tables from three data frames: ‘Restaurants’, ‘Customers’\n",
    "# which are created above, and the database from ‘rate’ category. The required\n",
    "# syntax for creating each table is as follows:\n",
    "\n",
    "dfrestaurants.to_sql(name='restaurants', con=engine, schema=None, if_exists='replace', index=True, index_label=None, chunksize=None, dtype=None)\n",
    "dfcustomers.to_sql(name='customers', con=engine, schema=None, if_exists='replace', index=True, index_label=None, chunksize=None, dtype=None)\n",
    "dfrating.to_sql(name='rating', con=engine, schema=None, if_exists='replace', index=True, index_label=None, chunksize=None, dtype=None)\n",
    "# engine.execute(\"SELECT * FROM restaurants\").fetchall()"
   ]
  },
  {
   "cell_type": "markdown",
   "metadata": {},
   "source": [
    "Assignment 3\n",
    "In this assignment, you will provide answers for the questions from Assignment\n",
    "2, through making SQL databases and SQL queries, using a Pandas module\n",
    "known as ‘sqlalchemy’.\n",
    "\n",
    "\n",
    "3.5. Answer all the questions from the previous assignment (Assignment 2), using\n",
    "SQL queries; except for Question 2.2.8 which is not needed to be answered in\n",
    "Assignment 3.\n",
    "\n",
    "Use the following command to query the databases:\n",
    "• pd.read_sql(query, db), where ‘query’ is the SQL query for answering the\n",
    "question."
   ]
  },
  {
   "cell_type": "code",
   "execution_count": null,
   "metadata": {},
   "outputs": [],
   "source": [
    "# 2.1.3. What are the names of different restaurants in the state of ‘tamaulipas’?\n",
    "# select where name is tamaulipas\n",
    "dfgeoplaces.loc[:,['name']][(dfgeoplaces.state=='tamaulipas')]\n",
    "engine.execute(\"SELECT distinct name FROM restaurants where state='tamaulipas'\").fetchall()\n"
   ]
  },
  {
   "cell_type": "code",
   "execution_count": null,
   "metadata": {},
   "outputs": [],
   "source": [
    "# 2.1.4. How many different customers used public transport for going to therestaurants?\n",
    "engine.execute(\"select  count(userID) from (SELECT  distinct userID FROM customers where transport='public')\").fetchall()\n"
   ]
  },
  {
   "cell_type": "code",
   "execution_count": null,
   "metadata": {},
   "outputs": [],
   "source": [
    "# 2.1.5. What is the least popular payment method among customers?\n",
    "engine.execute(\" select upayment,MIN(paymentcount) from (select upayment,count(upayment)as paymentcount from ( SELECT distinct upayment,userID FROM customers) where upayment!='None' group by upayment)\").fetchall()#=======================get the least\n"
   ]
  },
  {
   "cell_type": "code",
   "execution_count": null,
   "metadata": {},
   "outputs": [],
   "source": [
    "# 2.1.6. How many (different) restaurants work until 19:00 in the evenings?\n",
    "# len(dfhours4[dfhours4=='00:00-19:00'])\n",
    "dfhours4.hours\n",
    "# ===================================================\n",
    "# pd.to_timedelta(dfhours4.hours)"
   ]
  },
  {
   "cell_type": "code",
   "execution_count": null,
   "metadata": {},
   "outputs": [],
   "source": [
    "# 2.1.7. Which type of food (rcuisine) is served most among the restaurants?\n",
    "engine.execute(\"Select Rcuisine,MAX(cuisineCoint) from (SELECT count(Rcuisine) as cuisineCoint,Rcuisine from (SELECT distinct placeID,Rcuisine FROM restaurants) group by Rcuisine)\").fetchall()"
   ]
  },
  {
   "cell_type": "code",
   "execution_count": null,
   "metadata": {},
   "outputs": [],
   "source": [
    "# 2.1.8. What is the percentage of customers who were born between 1980 and 1990?\n",
    "# len(dfuserprofile[(dfuserprofile.birth_year>=1980) & (dfuserprofile.birth_year<=1990)])/len(dfuserprofile)================================================\n",
    "\n",
    "# engine.execute('select count((SELECT distinct userID FROM customers where birth_year>=1980 and birth_year<=1990)) as \n",
    "# filteredCustomers,count((SELECT distinct userID FROM customers) as totalCustomers))''.fetchall()\n",
    "\n",
    "# engine.execute('select count((SELECT distinct userID FROM customers where birth_year>=1980 and birth_year<=1990)) as filteredCustomers,count((SELECT distinct userID FROM customers)) as totalCustomers').fetchall()\n",
    "engine.execute('select (select count(*) from(SELECT distinct userID FROM customers where birth_year>=1980 and birth_year<=1990) as filteredCustomers),(count((SELECT distinct userID FROM customers)))').fetchall()"
   ]
  },
  {
   "cell_type": "code",
   "execution_count": null,
   "metadata": {},
   "outputs": [],
   "source": [
    "# 2.1.9. What is the percentage of students with a medium budget preferring walking to the restaurants?\n",
    "len(dfuserprofile[(dfuserprofile.budget=='medium') &(dfuserprofile.transport=='on foot')])/len(dfuserprofile)*100\n",
    "engine.execute(\"SELECT count(*) FROM customers where transport='on foot' and budget<='medium'\").fetchall() #=====================to add to the math\n"
   ]
  },
  {
   "cell_type": "markdown",
   "metadata": {},
   "source": [
    "###Assignment2- Part 2:"
   ]
  },
  {
   "cell_type": "code",
   "execution_count": null,
   "metadata": {},
   "outputs": [],
   "source": [
    "# 2.2.1. What are the names of restaurants that do not have public parking lots?\n",
    "engine.execute(\"SELECT distinct name FROM restaurants where parking_lot!='public'\").fetchall()\n"
   ]
  },
  {
   "cell_type": "code",
   "execution_count": null,
   "metadata": {},
   "outputs": [],
   "source": [
    "# 2.2.2. What are the addresses of restaurants which only accept ‘cash’?\n",
    "engine.execute(\" SELECT address from (SELECT  distinct placeid,address FROM restaurants where Rpayment='cash') \").fetchall()\n",
    "\n"
   ]
  },
  {
   "cell_type": "code",
   "execution_count": 55,
   "metadata": {},
   "outputs": [
    {
     "data": {
      "text/plain": [
       "[('victoria',), ('San Luis Potosi',), ('Cuernavaca',), ('?',), ('Soledad',)]"
      ]
     },
     "execution_count": 55,
     "metadata": {},
     "output_type": "execute_result"
    }
   ],
   "source": [
    "# 2.2.3. Name the cities where the restaurants cook and serve ‘fast food’?\n",
    "\n",
    "engine.execute(\"SELECT distinct city from restaurants where placeID in (SELECT distinct placeID FROM restaurants where Rcuisine='Fast_Food')\").fetchall()\n",
    "\n"
   ]
  },
  {
   "cell_type": "code",
   "execution_count": 69,
   "metadata": {},
   "outputs": [
    {
     "data": {
      "text/plain": [
       "[(2,)]"
      ]
     },
     "execution_count": 69,
     "metadata": {},
     "output_type": "execute_result"
    }
   ],
   "source": [
    "# 2.2.4. What is the most common ‘rating’ among customers with family?\n",
    "engine.execute(\"SELECT rating from (Select MAX(ratingcount),rating from (SELECT count(rating) as ratingcount,rating from rating where userID in (SELECT distinct customers.userID  FROM customers where ambience='family') group by rating))\").fetchall()\n"
   ]
  },
  {
   "cell_type": "code",
   "execution_count": null,
   "metadata": {},
   "outputs": [],
   "source": [
    "# 2.2.5. What types of food (‘rcuisine’) received the highest rank from people with‘low’ budget?\n",
    "engine.execute(\"Select distinct Rcuisine,sum(rating) from customers inner join rating on rating.userID=customers.userID where budget='low' group by Rcuisine order by sum(rating)\").fetchall()\n",
    "\n",
    "# engine.execute(\"SELECT rating,MAX(ratingsum) from (SELECT sum(rating) as ratingsum,rating from rating where userID in (SELECT distinct userID from customers where budget='low') group by rating)\").fetchall()\n",
    "engine.execute(\"SELECT distinct customers.userID,Rcuisine from customers inner join rating on rating.userID=customers.userID where budget='low'\").fetchall()\n",
    "engine.execute(\"SELECT distinct userID from customers where budget='low'\").fetchall()\n",
    "engine.execute(\"SELECT food_rating,placeID as placeID1 from rating where userID in (SELECT distinct userID from customers where budget='low')\").fetchall()\n",
    "\n",
    "engine.execute(\"SELECT MAX(ratingTotal),Rcuisine from (SELECT Rcuisine,sum(food_rating) as ratingTotal from (SELECT food_rating,Rcuisine from (SELECT food_rating,placeID as placeID1,userID  from rating where userID in (SELECT distinct userID from customers where budget='low')) left join(SELECT distinct placeID,Rcuisine from restaurants ) on placeID=placeID1)group by Rcuisine)\").fetchall()\n",
    "# ================================="
   ]
  },
  {
   "cell_type": "code",
   "execution_count": 169,
   "metadata": {},
   "outputs": [
    {
     "data": {
      "text/plain": [
       "[(1.3863636363636365,)]"
      ]
     },
     "execution_count": 169,
     "metadata": {},
     "output_type": "execute_result"
    }
   ],
   "source": [
    "# 2.2.6. What is the average of ‘service rating’, received from ‘social drinkers’ about restaurants which just served ‘Wine-Beer’?\n",
    "\n",
    "# three layer nested select where the firsr select finds avverage\n",
    "# the middle select finds the customer who are social drinkers and the third restourants which serve alchohal\n",
    "\n",
    "engine.execute(\" SELECT AVG(service_rating) from rating where userID in (SELECT distinct userID from  customers where drink_level='social drinker') and placeID in (SELECT distinct placeID from  restaurants where alcohol='Wine-Beer')\").fetchall()\n",
    "\n"
   ]
  },
  {
   "cell_type": "code",
   "execution_count": 137,
   "metadata": {},
   "outputs": [
    {
     "data": {
      "text/plain": [
       "[(15,)]"
      ]
     },
     "execution_count": 137,
     "metadata": {},
     "output_type": "execute_result"
    }
   ],
   "source": [
    "# 2.2.7. How many smokers gave zero ‘service rating’ to the restaurants without an open area?\n",
    "\n",
    "engine.execute(\"select count(userID) from (SELECT  distinct userID from customers where smoker='true' and userID in (SELECT userID from rating where service_rating=0 and placeID in (SELECT distinct placeID from restaurants where area!='open')))\").fetchall()\n"
   ]
  },
  {
   "cell_type": "code",
   "execution_count": null,
   "metadata": {},
   "outputs": [],
   "source": []
  },
  {
   "cell_type": "code",
   "execution_count": null,
   "metadata": {},
   "outputs": [],
   "source": []
  }
 ],
 "metadata": {
  "kernelspec": {
   "display_name": "Python 3",
   "language": "python",
   "name": "python3"
  },
  "language_info": {
   "codemirror_mode": {
    "name": "ipython",
    "version": 3
   },
   "file_extension": ".py",
   "mimetype": "text/x-python",
   "name": "python",
   "nbconvert_exporter": "python",
   "pygments_lexer": "ipython3",
   "version": "3.6.5"
  }
 },
 "nbformat": 4,
 "nbformat_minor": 2
}
