{
 "cells": [
  {
   "cell_type": "code",
   "execution_count": 50,
   "metadata": {},
   "outputs": [],
   "source": [
    "import pandas as pd\n",
    "import numpy as np\n",
    "import pprint as pprint\n",
    "import re\n",
    "import sqlalchemy as sqla\n"
   ]
  },
  {
   "cell_type": "markdown",
   "metadata": {},
   "source": [
    "### Loadind data from csv files into datafreames\n"
   ]
  },
  {
   "cell_type": "code",
   "execution_count": 51,
   "metadata": {},
   "outputs": [],
   "source": [
    "# Restaurants\n",
    "dfaccepts=pd.read_csv(filepath_or_buffer='Restaurant-data/chefmozaccepts.csv',encoding='ascii')\n",
    "dfcuisine=pd.read_csv(filepath_or_buffer='Restaurant-data/chefmozcuisine.csv',encoding='utf8')\n",
    "dfhours4=pd.read_csv(filepath_or_buffer='Restaurant-data/chefmozhours4.csv',encoding='utf8')\n",
    "dfparkingdata2=pd.read_csv('Restaurant-data/chefmozparking.csv')\n",
    "dfgeoplaces=pd.read_csv(filepath_or_buffer='Restaurant-data/geoplaces2.csv',encoding='latin-1')\n",
    "# # consumers\n",
    "dfusercuisine=pd.read_csv('Restaurant-data/usercuisine.csv')\n",
    "dfuserpayment=pd.read_csv('Restaurant-data/userpayment.csv')\n",
    "dfuserprofile=pd.read_csv('Restaurant-data/userprofile.csv')\n",
    "# user item rating\n",
    "dfrating=pd.read_csv('Restaurant-data/rating_final.csv')\n",
    "\n"
   ]
  },
  {
   "cell_type": "markdown",
   "metadata": {},
   "source": [
    "###  Data cleaning"
   ]
  },
  {
   "cell_type": "code",
   "execution_count": 52,
   "metadata": {},
   "outputs": [],
   "source": [
    "# To perform general cleaning on all datasets and inspecting.\n",
    "# removes dublicate and null rows\n",
    "def cleandf(data):\n",
    "    data.replace('?',np.NaN,inplace=True)\n",
    "#     print('no. of DUBLICATES', data.duplicated().sum(axis=0))\n",
    "#     print('NULL ROWS',data.isnull().sum(axis=0))\n",
    "    data.drop_duplicates(inplace = True)\n",
    "    data.dropna(inplace=True)\n",
    "#     adult['sex'].map(lambda x: x.lower()).head()\n",
    "#     print(data.shape)\n",
    "    return 0\n",
    "# cleandf(dfaccepts)\n",
    "# cleandf(dfgeoplaces)\n",
    "# cleandf(dfparkingdata2)\n",
    "# cleandf(dfhours4)\n",
    "# cleandf(dfcuisine)\n",
    "# cleandf(dfusercuisine)\n",
    "# cleandf(dfuserpayment)\n",
    "# cleandf(dfuserprofile)\n",
    "# cleandf(dfrating)\n",
    "\n",
    "\n"
   ]
  },
  {
   "cell_type": "code",
   "execution_count": 53,
   "metadata": {},
   "outputs": [
    {
     "data": {
      "text/plain": [
       "0"
      ]
     },
     "execution_count": 53,
     "metadata": {},
     "output_type": "execute_result"
    }
   ],
   "source": [
    "# data cleaning geoplaces\n",
    "def cleandfgeoplaces():\n",
    "    dfgeoplaces.isnull().sum(axis=0)\n",
    "    # Drop null collunms bellow a given threshhod here 74. Removes zip,url and fax\n",
    "    dfgeoplaces.dropna(thresh=74,axis=1,inplace=True)\n",
    "    #removing spaces\n",
    "    stripped=dfgeoplaces.select_dtypes(include='object').apply(lambda x: x.str.strip())\n",
    "#resolve city naming diferencesas a result of typo \n",
    "    typofreeCity= stripped.city.map(lambda x : \n",
    "            'San Luis Potosi' if (x=='s.l.p.') |(x=='s.l.p')| (x=='san luis potos' )| (x=='slp') | (x=='san luis potosi')else\n",
    "            'Ciudad Victoria' if (x=='Cd. Victoria') | (x=='victoria') | (x=='Cd Victoria') | (x=='Victoria') else x)\n",
    "    stripped.city=typofreeCity\n",
    "#resolve state naming diferencesas a result of typo \n",
    "    typofreeState= stripped.state.map(lambda x : \n",
    "            'San Luis Potosi' if (x=='s.l.p.') |(x=='s.l.p')| (x=='san luis potos' )| (x=='slp') | (x=='san luis potosi')| (x=='SLP') | (x=='S.L.P.')else\n",
    "            'Ciudad Victoria' if (x=='Cd. Victoria') | (x=='victoria') | (x=='Cd Victoria') | (x=='Victoria') else x)\n",
    "    stripped.state=typofreeState\n",
    "# fill all null country collumn with mexico\n",
    "    stripped.country.fillna('Mexico')\n",
    "    dfgeoplaces[list(dfgeoplaces.select_dtypes(include='object').columns.values)]=stripped\n",
    "    return 0\n",
    "cleandfgeoplaces()\n"
   ]
  },
  {
   "cell_type": "code",
   "execution_count": 54,
   "metadata": {},
   "outputs": [],
   "source": [
    "def dfhours4clean():\n",
    "#    removing multiple ranges data fro hours collumn\n",
    "    dfhours4.hours=dfhours4.hours.map(lambda x:re.split(';',x)[0])\n",
    "#     dfhours4.hours.\n",
    "    fromto = pd.DataFrame(dfhours4.hours.str.split('-',1).tolist(), columns = ['fromhour','tohour'])\n",
    "    hourRange=pd.concat([dfhours4, fromto], axis=1, sort=False)\n",
    "    return hourRange \n",
    "dfhours4=dfhours4clean()"
   ]
  },
  {
   "cell_type": "markdown",
   "metadata": {},
   "source": [
    "### concartenating dataphrames"
   ]
  },
  {
   "cell_type": "code",
   "execution_count": 73,
   "metadata": {},
   "outputs": [],
   "source": [
    "# 3.1. Concatenate all cleaned data frames from ‘Restaurant’ category based on the common column, to create a large data frame and name it as Restaurants.\n",
    "dfrestaurants=dfgeoplaces.merge(dfcuisine,how='left',on='placeID').merge(dfhours4,how='left',on='placeID').merge(dfaccepts,how='left',on='placeID').merge(dfparkingdata2,how='left',on='placeID')\n"
   ]
  },
  {
   "cell_type": "code",
   "execution_count": 74,
   "metadata": {},
   "outputs": [
    {
     "data": {
      "text/plain": [
       "(416, 21)"
      ]
     },
     "execution_count": 74,
     "metadata": {},
     "output_type": "execute_result"
    }
   ],
   "source": [
    "# 3.2. Concatenate all cleaned data frames from ‘Customer’ categories based on the common column, to create a large data frame and name it as Customers.\n",
    "dfcustomers=dfuserprofile.merge(dfuserpayment,on='userID',how='left').merge(dfusercuisine, on='userID' , how='left')\n",
    "dfcustomers.shape"
   ]
  },
  {
   "cell_type": "markdown",
   "metadata": {},
   "source": [
    "### Creating Database and database tables\n",
    "\n"
   ]
  },
  {
   "cell_type": "code",
   "execution_count": 75,
   "metadata": {},
   "outputs": [],
   "source": [
    "# 3.3. Import the required package and create an engine for the sqlalchemy application:\n",
    "engine = sqla.create_engine('sqlite:///data_science.db',echo=False)"
   ]
  },
  {
   "cell_type": "code",
   "execution_count": 76,
   "metadata": {},
   "outputs": [],
   "source": [
    "# 3.4. Create three SQL tables from three data frames: ‘Restaurants’, ‘Customers’\n",
    "# which are created above, and the database from ‘rate’ category. The required\n",
    "\n",
    "dfrestaurants.to_sql(name='restaurants', con=engine, schema=None, if_exists='replace', index=True, index_label=None, chunksize=None, dtype=None)\n",
    "dfcustomers.to_sql(name='customers', con=engine, schema=None, if_exists='replace', index=True, index_label=None, chunksize=None, dtype=None)\n",
    "dfrating.to_sql(name='rating', con=engine, schema=None, if_exists='replace', index=True, index_label=None, chunksize=None, dtype=None)\n"
   ]
  },
  {
   "cell_type": "markdown",
   "metadata": {},
   "source": [
    "### Queries"
   ]
  },
  {
   "cell_type": "markdown",
   "metadata": {},
   "source": [
    "#### Assignment3  Part 1:"
   ]
  },
  {
   "cell_type": "code",
   "execution_count": 77,
   "metadata": {},
   "outputs": [
    {
     "data": {
      "text/plain": [
       "[('little pizza Emilio Portes Gil',),\n",
       " ('TACOS EL GUERO',),\n",
       " ('palomo tec',),\n",
       " ('TACOS CORRECAMINOS',),\n",
       " ('Carnitas Mata  Calle 16 de Septiembre',),\n",
       " ('puesto de gorditas',),\n",
       " ('carnitas mata calle Emilio Portes Gil',),\n",
       " ('tacos abi',),\n",
       " ('la perica hamburguesa',)]"
      ]
     },
     "execution_count": 77,
     "metadata": {},
     "output_type": "execute_result"
    }
   ],
   "source": [
    "# 2.1.3. What are the names of different restaurants in the state of ‘tamaulipas’?\n",
    "# select where name is tamaulipas\n",
    "engine.execute(\"SELECT distinct name FROM restaurants where state='tamaulipas'\").fetchall()\n"
   ]
  },
  {
   "cell_type": "code",
   "execution_count": 78,
   "metadata": {},
   "outputs": [
    {
     "data": {
      "text/plain": [
       "[(82,)]"
      ]
     },
     "execution_count": 78,
     "metadata": {},
     "output_type": "execute_result"
    }
   ],
   "source": [
    "# 2.1.4. How many different customers used public transport for going to therestaurants?\n",
    "engine.execute(\"select  count(userID) from (SELECT  distinct userID FROM customers where transport='public')\").fetchall()\n"
   ]
  },
  {
   "cell_type": "code",
   "execution_count": 79,
   "metadata": {},
   "outputs": [
    {
     "data": {
      "text/plain": [
       "[('American_Express', 3)]"
      ]
     },
     "execution_count": 79,
     "metadata": {},
     "output_type": "execute_result"
    }
   ],
   "source": [
    "# 2.1.5. What is the least popular payment method among customers?\n",
    "engine.execute(\" select upayment,MIN(paymentcount) from (select upayment,count(upayment)as paymentcount from ( SELECT distinct upayment,userID FROM customers) where upayment!='None' group by upayment)\").fetchall()#=======================get the least\n"
   ]
  },
  {
   "cell_type": "code",
   "execution_count": 80,
   "metadata": {},
   "outputs": [
    {
     "data": {
      "text/plain": [
       "[(8,)]"
      ]
     },
     "execution_count": 80,
     "metadata": {},
     "output_type": "execute_result"
    }
   ],
   "source": [
    "# 2.1.6. How many (different) restaurants work until 19:00 in the evenings?\n",
    "engine.execute(''' select count(*) from (SELECT distinct placeID from restaurants  where tohour=\"19:00\") ''').fetchall()\n"
   ]
  },
  {
   "cell_type": "code",
   "execution_count": 81,
   "metadata": {},
   "outputs": [
    {
     "data": {
      "text/plain": [
       "[('Mexican', 28)]"
      ]
     },
     "execution_count": 81,
     "metadata": {},
     "output_type": "execute_result"
    }
   ],
   "source": [
    "# 2.1.7. Which type of food (rcuisine) is served most among the restaurants?\n",
    "engine.execute(\"Select Rcuisine,MAX(cuisineCoint) from (SELECT count(Rcuisine) as cuisineCoint,Rcuisine from (SELECT distinct placeID,Rcuisine FROM restaurants) group by Rcuisine)\").fetchall()"
   ]
  },
  {
   "cell_type": "code",
   "execution_count": 82,
   "metadata": {},
   "outputs": [
    {
     "data": {
      "text/plain": [
       "[(63,)]"
      ]
     },
     "execution_count": 82,
     "metadata": {},
     "output_type": "execute_result"
    }
   ],
   "source": [
    "# 2.1.8. What is the percentage of customers who were born between 1980 and 1990?\n",
    "engine.execute('''select (select count(*) from(SELECT distinct userID FROM customers where birth_year>=1980 and birth_year<=1990) as filteredCustomers) *100 /\n",
    "                 (select count(userID) from (SELECT distinct userID FROM customers))''').fetchall()\n",
    "\n"
   ]
  },
  {
   "cell_type": "code",
   "execution_count": 83,
   "metadata": {},
   "outputs": [
    {
     "data": {
      "text/plain": [
       "[(9,)]"
      ]
     },
     "execution_count": 83,
     "metadata": {},
     "output_type": "execute_result"
    }
   ],
   "source": [
    "# 2.1.9. What is the percentage of students with a medium budget preferring walking to the restaurants?\n",
    "\n",
    "engine.execute(''' SELECT (SELECT count(*) from ( SELECT distinct userID FROM customers where transport=\"on foot\" and budget=\"medium\")) *100 /\n",
    "                  (SELECT count(*) from ( SELECT distinct userID FROM customers where budget=\"medium\") )''').fetchall()\n"
   ]
  },
  {
   "cell_type": "markdown",
   "metadata": {},
   "source": [
    "### Assignment3- Part 2:"
   ]
  },
  {
   "cell_type": "code",
   "execution_count": 84,
   "metadata": {},
   "outputs": [
    {
     "data": {
      "text/plain": [
       "[('Kiku Cuernavaca',),\n",
       " ('puesto de tacos',),\n",
       " ('El Rincón de San Francisco',),\n",
       " ('little pizza Emilio Portes Gil',),\n",
       " ('carnitas_mata',),\n",
       " ('Restaurant los Compadres',),\n",
       " ('Taqueria EL amigo',),\n",
       " ('shi ro ie',),\n",
       " ('Pollo_Frito_Buenos_Aires',),\n",
       " ('la Estrella de Dimas',),\n",
       " ('Restaurante 75',),\n",
       " ('Abondance Restaurante Bar',),\n",
       " ('El angel Restaurante',),\n",
       " ('Restaurante Pueblo Bonito',),\n",
       " ('Mcdonalds Parque Tangamanga',),\n",
       " ('Tortas y hamburguesas el gordo',),\n",
       " ('Sirlone',),\n",
       " ('rockabilly',),\n",
       " ('Unicols Pizza',),\n",
       " ('TACOS EL GUERO',),\n",
       " ('Restaurant El Muladar de Calzada',),\n",
       " ('La Posada del Virrey',),\n",
       " ('Restaurant and Bar and Clothesline Carlos N Charlies',),\n",
       " ('KFC',),\n",
       " ('Giovannis',),\n",
       " ('Restaurant Oriental Express',),\n",
       " ('Mariscos Tia Licha',),\n",
       " ('cafe ambar',),\n",
       " ('Restaurante la Gran Via',),\n",
       " ('don burguers',),\n",
       " ('Restaurante y Pescaderia Tampico',),\n",
       " ('Rincon del Bife',),\n",
       " ('La Fontana Pizza Restaurante and Cafe',),\n",
       " ('Restaurante la Estrella de Dima',),\n",
       " ('El Rincon de San Francisco',),\n",
       " ('Preambulo Wifi Zone Cafe',),\n",
       " ('El Herradero Restaurante and Bar',),\n",
       " ('Koye Sushi',),\n",
       " ('Restaurant Teely',),\n",
       " ('la parroquia',),\n",
       " ('Luna Cafe',),\n",
       " ('Restaurante El Reyecito',),\n",
       " ('churchs',),\n",
       " ('Dominos Pizza',),\n",
       " ('el pueblito',),\n",
       " ('emilianos',),\n",
       " ('Restaurant Bar Hacienda los Martinez',),\n",
       " ('Vips',),\n",
       " ('Restaurante Alhondiga',),\n",
       " ('los Toneles',),\n",
       " ('Restaurant los Pinos',),\n",
       " ('Restaurante Guerra',),\n",
       " ('Michiko Restaurant Japones',),\n",
       " ('Restaurante Marisco Sam',),\n",
       " ('la Cochinita Pibil Restaurante Yucateco',),\n",
       " ('Potzocalli',),\n",
       " ('El Oceano Dorado',),\n",
       " ('Restaurante El Chivero S.A. de C.V.',),\n",
       " ('Restaurant la Chalita',),\n",
       " ('El Club',),\n",
       " ('Restaurante Versalles',),\n",
       " ('La Cantina Restaurante',),\n",
       " ('Cenaduria El RincÃ³n de Tlaquepaque',),\n",
       " ('Los Vikingos',),\n",
       " ('Hamburguesas Valle Dorado',),\n",
       " ('la Cantina',),\n",
       " ('dairy queen',),\n",
       " ('Arrachela Grill',),\n",
       " ('vips',),\n",
       " ('palomo tec',),\n",
       " ('Restaurante Casa de las Flores',),\n",
       " ('VIPS',),\n",
       " ('TACOS CORRECAMINOS',),\n",
       " ('Restaurant Wu Zhuo Yi',),\n",
       " ('El Mundo de la Pasta',),\n",
       " ('Restaurante la Cantina',),\n",
       " ('el lechon potosino',),\n",
       " ('Restaurante Bar Fu-hao',),\n",
       " ('Carls Jr',),\n",
       " ('Carreton de Flautas y Migadas',),\n",
       " ('Rincon Huasteco',),\n",
       " ('El cotorreo',),\n",
       " ('Chilis Cuernavaca',),\n",
       " ('Cafe Chaires',),\n",
       " ('tacos los volcanes',),\n",
       " ('Little Cesarz',),\n",
       " ('cafe punta del cielo',),\n",
       " ('tacos de la estacion',),\n",
       " ('Restaurant Orizatlan',),\n",
       " ('Restaurant Familiar El Chino',),\n",
       " ('Restaurant de Mariscos de Picon',),\n",
       " ('Sanborns Casa Piedra',),\n",
       " ('pizza clasica',),\n",
       " ('Carnitas Mata  Calle 16 de Septiembre',),\n",
       " ('Restaurante de Mariscos la Langosta',),\n",
       " ('Restaurante Bar El Gallinero',),\n",
       " ('Log Yin',),\n",
       " ('Mariscos El Pescador',),\n",
       " ('carnitas mata calle Emilio Portes Gil',),\n",
       " ('crudalia',),\n",
       " ('Restaurant Las Mananitas',),\n",
       " ('Restaurante El Cielo Potosino',),\n",
       " ('Mikasa',),\n",
       " ('Cabana Huasteca',),\n",
       " ('Gorditas Dona Tota',),\n",
       " ('La Virreina',),\n",
       " ('tacos abi',),\n",
       " ('la perica hamburguesa',),\n",
       " ('McDonalds Centro',),\n",
       " ('Chaires',),\n",
       " ('Sushi Itto',),\n",
       " ('Paniroles',),\n",
       " ('Restaurant Bar Coty y Pablo',),\n",
       " ('sirloin stockade',)]"
      ]
     },
     "execution_count": 84,
     "metadata": {},
     "output_type": "execute_result"
    }
   ],
   "source": [
    "# 2.2.1. What are the names of restaurants that do not have public parking lots?\n",
    "engine.execute(\"SELECT distinct name FROM restaurants where parking_lot!='public'\").fetchall()\n"
   ]
  },
  {
   "cell_type": "code",
   "execution_count": 85,
   "metadata": {},
   "outputs": [
    {
     "data": {
      "text/plain": [
       "[('esquina santos degollado y leon guzman',),\n",
       " ('Universidad 169',),\n",
       " ('calle emilio portes gil',),\n",
       " ('lic. Emilio portes gil',),\n",
       " ('Camino a Simon Diaz 155 Centro',),\n",
       " ('Calle Mezquite Fracc Framboyanes',),\n",
       " ('?',),\n",
       " ('tampico',),\n",
       " ('Villa de Pozos 192 Villa de Pozos',),\n",
       " ('Villa de Pozos 4497 Villa de Pozos',),\n",
       " ('Industrias 908 Valle Dorado',),\n",
       " ('Venustiano Carranza 1625 Jardin',),\n",
       " ('Mexico 2015 Providencia',),\n",
       " ('Lateral Salvador Nava Martinez 3145',),\n",
       " ('Ricardo B. Anaya',),\n",
       " ('carr. mexico',),\n",
       " ('agustin de iturbide',),\n",
       " ('Plaza del Carmen',),\n",
       " ('De Guadalupe 460 San Miguelito',),\n",
       " ('Av. V. Carranza',),\n",
       " ('Domingo 10 711 El Empleado',),\n",
       " ('?',),\n",
       " ('40 Norte Civac 1RA. Seccion',),\n",
       " ('Tangamanga 7 Tangamanga',),\n",
       " ('avenida salvador montiel',),\n",
       " ('Venustiano Carranza 560 Centro',),\n",
       " ('r.b. anaya esq. florencia',),\n",
       " ('Ricardo B. Anaya 2700 Estrella de Oriente',),\n",
       " ('?',),\n",
       " ('Satelite 606 Satelite',),\n",
       " ('Soledad Sn Arboledas de Soledad',),\n",
       " ('1a. de Lozada 1',),\n",
       " ('Anahuac 805',),\n",
       " ('Costado Sur Central Camionera Km 2',),\n",
       " ('Nereo Rodriguez Barragan 450 E Centro',),\n",
       " ('La Pradera',),\n",
       " ('venustiano carranza',),\n",
       " ('Francisco I. Madero 215',),\n",
       " ('cd. mier',),\n",
       " ('Agricultura 595 del Valle',),\n",
       " ('Ricardo B. Anaya',),\n",
       " ('?',),\n",
       " ('venustiano carranza',),\n",
       " ('Santos Degollado 745 los Alamitos',),\n",
       " ('Emiliano Zapata No. 825 Tlaltenongo',),\n",
       " ('Alhondiga 62 Centro',),\n",
       " ('Estatuto Juridico 1040 Burocratas',),\n",
       " ('Federal Mexico - Acapulco 10 3 de Mayo',),\n",
       " ('20 de Noviembre 1817 Tlaxcala',),\n",
       " ('Cordillera de Los Alpes 160 Lomas 2 Seccion',),\n",
       " ('Ignacio Allende 785 Centro',),\n",
       " ('Venustiano Carranza 2175 Jardin',),\n",
       " ('Venustiano Carranza 303 Centro',),\n",
       " ('Libramiento Burgos Colonia Las Animas',),\n",
       " ('Angel Veral 328 Altamira',),\n",
       " ('Guajardo Sn San Luis Potosi Centro',),\n",
       " ('Mexico 810 Centro',),\n",
       " ('?',),\n",
       " ('Francisco I. Madero 145 Centro',),\n",
       " ('Rio Mayo 17 Vista Hermosa',),\n",
       " ('Ignacio Aldama 300 Centro',),\n",
       " ('av. seminario',),\n",
       " ('36 Sur Civac',),\n",
       " ('Av. Coral',),\n",
       " ('69 Tres De Mayo',),\n",
       " ('?',),\n",
       " ('General Mariano Arista 1205 Barrio de Tequisquiap',),\n",
       " ('NICOLAS ZAPATA 300',),\n",
       " ('Himno Nacional 100 Avenida',),\n",
       " ('Rio Papaloapan 265 Lomas de San Luis (3)',),\n",
       " ('De La Estrella 2005 Estrella de Oriente',),\n",
       " ('sevilla y olmedo 715 a',),\n",
       " ('circuito oriente esq. carretera 57',),\n",
       " ('Jesus Goytortua 390 Tangamanga',),\n",
       " ('?',),\n",
       " ('Av. V. Carranza',),\n",
       " ('Av. Saan Luis enttre moctezuma y salinas',),\n",
       " ('?',),\n",
       " ('Emiliano Zapata Col. Tres de Mayo',),\n",
       " ('Zaragoza entre Francisco Zarco y Lopez Velarde',),\n",
       " ('?',),\n",
       " ('Rio Mayo Colonia Vista Hermosa Esq. Rio Balsas',),\n",
       " ('?',),\n",
       " ('avenida hivno nacional',),\n",
       " ('?',),\n",
       " ('?',),\n",
       " ('?',),\n",
       " ('Pascual M. Hernandez 240',),\n",
       " ('Paseo de las Fuentes',),\n",
       " ('Miguel Barragan 46 Centro',),\n",
       " ('Lomas del Mirador',),\n",
       " ('Av. de los Pintores',),\n",
       " ('524 Soledad de Graciano Sanchez',),\n",
       " ('Cordillera de Los Alpes 675 Loma Verde',),\n",
       " ('Pascual M. Hernandez 210 Centro',),\n",
       " ('frente al tecnologico',),\n",
       " ('Himno Nacional 2104 Tangamanga',),\n",
       " ('?',),\n",
       " ('?',),\n",
       " ('Julian de Los Reyes 400 Centro',),\n",
       " ('Himno nacional esq. Blvd. Juarez',),\n",
       " ('Interior Internado Palmira SN',),\n",
       " ('Munoz Sn Centro',),\n",
       " ('Cuauhtemoc 455',),\n",
       " ('?',),\n",
       " ('Constitucion 200 Centro',),\n",
       " ('Av. Carranza 830',),\n",
       " ('Venustiano Carranza 719 Centro',),\n",
       " ('?',),\n",
       " ('Rayon sn col. Centro',),\n",
       " ('Ricardo B. Anaya',),\n",
       " ('Venustiano Carranza 1809 C Polanco',),\n",
       " ('?',)]"
      ]
     },
     "execution_count": 85,
     "metadata": {},
     "output_type": "execute_result"
    }
   ],
   "source": [
    "# 2.2.2. What are the addresses of restaurants which only accept ‘cash’?\n",
    "engine.execute(\" SELECT address from (SELECT  distinct placeid,address FROM restaurants where Rpayment='cash') \").fetchall()\n",
    "\n"
   ]
  },
  {
   "cell_type": "code",
   "execution_count": 86,
   "metadata": {},
   "outputs": [
    {
     "data": {
      "text/plain": [
       "[('Ciudad Victoria',),\n",
       " ('San Luis Potosi',),\n",
       " ('Cuernavaca',),\n",
       " ('?',),\n",
       " ('Soledad',)]"
      ]
     },
     "execution_count": 86,
     "metadata": {},
     "output_type": "execute_result"
    }
   ],
   "source": [
    "# 2.2.3. Name the cities where the restaurants cook and serve ‘fast food’?\n",
    "\n",
    "engine.execute(\"SELECT distinct city from restaurants where placeID in (SELECT distinct placeID FROM restaurants where Rcuisine='Fast_Food')\").fetchall()\n",
    "\n"
   ]
  },
  {
   "cell_type": "code",
   "execution_count": 87,
   "metadata": {},
   "outputs": [
    {
     "data": {
      "text/plain": [
       "[(2,)]"
      ]
     },
     "execution_count": 87,
     "metadata": {},
     "output_type": "execute_result"
    }
   ],
   "source": [
    "# 2.2.4. What is the most common ‘rating’ among customers with family?\n",
    "engine.execute(\"SELECT rating from (Select MAX(ratingcount),rating from (SELECT count(rating) as ratingcount,rating from rating where userID in (SELECT distinct customers.userID  FROM customers where ambience='family') group by rating))\").fetchall()\n"
   ]
  },
  {
   "cell_type": "code",
   "execution_count": 88,
   "metadata": {},
   "outputs": [
    {
     "data": {
      "text/plain": [
       "[(292, 'Mexican')]"
      ]
     },
     "execution_count": 88,
     "metadata": {},
     "output_type": "execute_result"
    }
   ],
   "source": [
    "# 2.2.5. What types of food (‘rcuisine’) received the highest rank from people with‘low’ budget?\n",
    "\n",
    "engine.execute(''' SELECT MAX(totalRating),Rcuisine from \n",
    "                   (select Rcuisine,sum(food_rating) as totalRating from \n",
    "                   (Select * from (SELECT distinct userID as userID1, Rcuisine from customers)  left join \n",
    "                   rating on rating.userID=userId1 where \n",
    "                   userID1 in (SELECT distinct userID from customers where budget='low'))\n",
    "                   group by Rcuisine)''').fetchall()\n",
    "\n",
    "\n"
   ]
  },
  {
   "cell_type": "code",
   "execution_count": 89,
   "metadata": {},
   "outputs": [
    {
     "data": {
      "text/plain": [
       "[(1.3863636363636365,)]"
      ]
     },
     "execution_count": 89,
     "metadata": {},
     "output_type": "execute_result"
    }
   ],
   "source": [
    "# 2.2.6. What is the average of ‘service rating’, received from ‘social drinkers’ about restaurants which just served ‘Wine-Beer’?\n",
    "\n",
    "# three layer nested select where the firsr select finds avvrage\n",
    "# the middle select finds the customer who are social drinkers and the third restourants which serve alchohal\n",
    "\n",
    "\n",
    "engine.execute(\" SELECT AVG(service_rating) from rating where userID in (SELECT distinct userID from  customers where drink_level='social drinker') and placeID in (SELECT distinct placeID from  restaurants where alcohol='Wine-Beer')\").fetchall()\n"
   ]
  },
  {
   "cell_type": "code",
   "execution_count": 90,
   "metadata": {},
   "outputs": [
    {
     "data": {
      "text/plain": [
       "[(15,)]"
      ]
     },
     "execution_count": 90,
     "metadata": {},
     "output_type": "execute_result"
    }
   ],
   "source": [
    "# 2.2.7. How many smokers gave zero ‘service rating’ to the restaurants without an open area?\n",
    "\n",
    "\n",
    "engine.execute('''select count(userID) from (SELECT  distinct userID from customers where smoker=\"true\" and userID in \n",
    "                 (SELECT userID from rating where service_rating=0 and placeID in \n",
    "                 (SELECT distinct placeID from restaurants where area!=\"open\")))''').fetchall()\n"
   ]
  }
 ],
 "metadata": {
  "kernelspec": {
   "display_name": "Python 3",
   "language": "python",
   "name": "python3"
  },
  "language_info": {
   "codemirror_mode": {
    "name": "ipython",
    "version": 3
   },
   "file_extension": ".py",
   "mimetype": "text/x-python",
   "name": "python",
   "nbconvert_exporter": "python",
   "pygments_lexer": "ipython3",
   "version": "3.6.5"
  }
 },
 "nbformat": 4,
 "nbformat_minor": 2
}
