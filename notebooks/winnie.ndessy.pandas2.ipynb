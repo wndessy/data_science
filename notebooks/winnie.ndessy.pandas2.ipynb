{
 "cells": [
  {
   "cell_type": "code",
   "execution_count": null,
   "metadata": {},
   "outputs": [],
   "source": [
    "import pandas as pd\n",
    "import numpy as np\n",
    "import pprint as pprint\n",
    "import re\n",
    "import sqlalchemy as sqla\n"
   ]
  },
  {
   "cell_type": "markdown",
   "metadata": {},
   "source": [
    "### Loadind data from csv files into datafreames\n"
   ]
  },
  {
   "cell_type": "code",
   "execution_count": null,
   "metadata": {},
   "outputs": [],
   "source": [
    "# Restaurants\n",
    "dfaccepts=pd.read_csv(filepath_or_buffer='Restaurant-data/chefmozaccepts.csv',encoding='ascii')\n",
    "dfcuisine=pd.read_csv(filepath_or_buffer='Restaurant-data/chefmozcuisine.csv',encoding='utf8')\n",
    "dfhours4=pd.read_csv(filepath_or_buffer='Restaurant-data/chefmozhours4.csv',encoding='utf8')\n",
    "dfparkingdata2=pd.read_csv('Restaurant-data/chefmozparking.csv')\n",
    "dfgeoplaces=pd.read_csv(filepath_or_buffer='Restaurant-data/geoplaces2.csv',encoding='latin-1')\n",
    "# # consumers\n",
    "dfusercuisine=pd.read_csv('Restaurant-data/usercuisine.csv')\n",
    "dfuserpayment=pd.read_csv('Restaurant-data/userpayment.csv')\n",
    "dfuserprofile=pd.read_csv('Restaurant-data/userprofile.csv')\n",
    "# user item rating\n",
    "dfrating=pd.read_csv('Restaurant-data/rating_final.csv')\n"
   ]
  },
  {
   "cell_type": "markdown",
   "metadata": {},
   "source": [
    "###  Data cleaning"
   ]
  },
  {
   "cell_type": "code",
   "execution_count": null,
   "metadata": {},
   "outputs": [],
   "source": [
    "# To perform general cleaning on all datasets and inspecting.\n",
    "# removes dublicate and null rows\n",
    "def cleandf(data):\n",
    "    data.replace('?',np.NaN,inplace=True)\n",
    "    print('no. of DUBLICATES', data.duplicated().sum(axis=0))\n",
    "    print('NULL ROWS',data.isnull().sum(axis=0))\n",
    "    data.drop_duplicates(inplace = True)\n",
    "    data.dropna(inplace=True)\n",
    "#     adult['sex'].map(lambda x: x.lower()).head()\n",
    "    print(data.shape)\n",
    "    return 0\n",
    "cleandf(dfaccepts)\n",
    "cleandf(dfgeoplaces)\n",
    "cleandf(dfparkingdata2)\n",
    "cleandf(dfhours4)\n",
    "cleandf(dfcuisine)\n",
    "cleandf(dfusercuisine)\n",
    "cleandf(dfuserpayment)\n",
    "cleandf(dfuserprofile)\n",
    "cleandf(dfrating)\n",
    "\n",
    "\n"
   ]
  },
  {
   "cell_type": "code",
   "execution_count": null,
   "metadata": {},
   "outputs": [],
   "source": [
    "# data cleaning\n",
    "# replace all ? with nan\n",
    "def cleandfgeoplaces():\n",
    "    dfgeoplaces.isnull().sum(axis=0)\n",
    "    # Drop null collunms bellow a given threshhod here 74. Removes zip,url and fax\n",
    "    dfgeoplaces.dropna(thresh=74,axis=1,inplace=True)\n",
    "    # print (dfgeoplaces.isnull().sum(axis=0))\n",
    "    # print('Null rows ', dfgeoplaces.isnull().sum(axis=1))\n",
    "    stripped=dfgeoplaces.select_dtypes(include='object').apply(lambda x: x.str.strip())\n",
    "#     stripped=dfgeoplaces.select_dtypes(include='object').apply(lambda x: np.empty if x=='?' else x)\n",
    "\n",
    "    typofreeCity= stripped.city.map(lambda x : \n",
    "            'San Luis Potosi' if (x=='s.l.p.') |(x=='s.l.p')| (x=='san luis potos' )| (x=='slp') | (x=='san luis potosi')else\n",
    "            'Ciudad Victoria' if (x=='Cd. Victoria') | (x=='victoria') | (x=='Cd Victoria') | (x=='Victoria') else x)\n",
    "    stripped.city=typofreeCity\n",
    "    typofreeState= stripped.city.map(lambda x : \n",
    "            'San Luis Potosi' if (x=='s.l.p.') |(x=='s.l.p')| (x=='san luis potos' )| (x=='slp') | (x=='san luis potosi')else\n",
    "            'Ciudad Victoria' if (x=='Cd. Victoria') | (x=='victoria') | (x=='Cd Victoria') | (x=='Victoria') else x)\n",
    "    stripped.state=typofreeState\n",
    "    stripped.country.fillna('Mexico')\n",
    "    return stripped\n",
    "cleandfgeoplaces()\n",
    "# dfgeoplaces.address.map(lambda x: 'ooooooo' if x=='NaN' else x ) \n",
    "\n",
    "# pd.unique(better)\n",
    "\n",
    "# dfgeoplaces.axes\n",
    "\n",
    "# stripped[['city','state','country']][(stripped.city=='victoria')  | (stripped.city=='Cd Victoria')]\n",
    "\n",
    "\n",
    "# pd.unique(dfgeoplaces.state)\n",
    "# pd.unique(typofreeState)\n",
    "# dfgeoplaces.country\n",
    "# np.empty"
   ]
  },
  {
   "cell_type": "code",
   "execution_count": null,
   "metadata": {},
   "outputs": [],
   "source": [
    "def dfhours4clean():\n",
    "#    removing multiple ranges data fro hours collumn\n",
    "    dfhours4.hours=dfhours4.hours.map(lambda x:re.split(';',x)[0])\n",
    "#     dfhours4.hours.\n",
    "    fromto = pd.DataFrame(dfhours4.hours.str.split('-',1).tolist(), columns = ['fromhour','tohour'])\n",
    "    hourRange=pd.concat([dfhours4, fromto], axis=1, sort=False)\n",
    "    return hourRange \n",
    "dfhours4clean()"
   ]
  },
  {
   "cell_type": "markdown",
   "metadata": {},
   "source": [
    "### concartenating dataphrames"
   ]
  },
  {
   "cell_type": "code",
   "execution_count": null,
   "metadata": {},
   "outputs": [],
   "source": [
    "# 3.1. Concatenate all cleaned data frames from ‘Restaurant’ category based on the common column, to create a large data frame and name it as Restaurants.\n",
    "dfrestaurants=dfgeoplaces.merge(dfcuisine,how='left',on='placeID').merge(dfhours41,how='left',on='placeID').merge(dfaccepts,how='left',on='placeID').merge(dfparkingdata2,how='left',on='placeID')\n"
   ]
  },
  {
   "cell_type": "code",
   "execution_count": null,
   "metadata": {},
   "outputs": [],
   "source": [
    "# 3.2. Concatenate all cleaned data frames from ‘Customer’ categories based on the common column, to create a large data frame and name it as Customers.\n",
    "dfcustomers=dfuserprofile.merge(dfuserpayment,on='userID',how='left').merge(dfusercuisine, on='userID' , how='left')\n",
    "dfcustomers.shape"
   ]
  },
  {
   "cell_type": "markdown",
   "metadata": {},
   "source": [
    "### Creating Database and database tables\n",
    "\n"
   ]
  },
  {
   "cell_type": "code",
   "execution_count": null,
   "metadata": {},
   "outputs": [],
   "source": [
    "# 3.3. Import the required package and create an engine for the sqlalchemy application:\n",
    "engine = sqla.create_engine('sqlite:///data_science.db',echo=False)"
   ]
  },
  {
   "cell_type": "code",
   "execution_count": null,
   "metadata": {},
   "outputs": [],
   "source": [
    "# 3.4. Create three SQL tables from three data frames: ‘Restaurants’, ‘Customers’\n",
    "# which are created above, and the database from ‘rate’ category. The required\n",
    "\n",
    "dfrestaurants.to_sql(name='restaurants', con=engine, schema=None, if_exists='replace', index=True, index_label=None, chunksize=None, dtype=None)\n",
    "dfcustomers.to_sql(name='customers', con=engine, schema=None, if_exists='replace', index=True, index_label=None, chunksize=None, dtype=None)\n",
    "dfrating.to_sql(name='rating', con=engine, schema=None, if_exists='replace', index=True, index_label=None, chunksize=None, dtype=None)\n"
   ]
  },
  {
   "cell_type": "markdown",
   "metadata": {},
   "source": [
    "### Queries"
   ]
  },
  {
   "cell_type": "markdown",
   "metadata": {},
   "source": [
    "#### Assignment3  Part 1:"
   ]
  },
  {
   "cell_type": "code",
   "execution_count": null,
   "metadata": {},
   "outputs": [],
   "source": [
    "# 2.1.3. What are the names of different restaurants in the state of ‘tamaulipas’?\n",
    "# select where name is tamaulipas\n",
    "engine.execute(\"SELECT distinct name FROM restaurants where state='tamaulipas'\").fetchall()\n"
   ]
  },
  {
   "cell_type": "code",
   "execution_count": null,
   "metadata": {},
   "outputs": [],
   "source": [
    "# 2.1.4. How many different customers used public transport for going to therestaurants?\n",
    "engine.execute(\"select  count(userID) from (SELECT  distinct userID FROM customers where transport='public')\").fetchall()\n"
   ]
  },
  {
   "cell_type": "code",
   "execution_count": null,
   "metadata": {},
   "outputs": [],
   "source": [
    "# 2.1.5. What is the least popular payment method among customers?\n",
    "engine.execute(\" select upayment,MIN(paymentcount) from (select upayment,count(upayment)as paymentcount from ( SELECT distinct upayment,userID FROM customers) where upayment!='None' group by upayment)\").fetchall()#=======================get the least\n"
   ]
  },
  {
   "cell_type": "code",
   "execution_count": null,
   "metadata": {},
   "outputs": [],
   "source": [
    "# 2.1.6. How many (different) restaurants work until 19:00 in the evenings?\n",
    "engine.execute(''' select count(*) from (SELECT distinct placeID from restaurants  where tohour=\"19:00\") ''').fetchall()\n"
   ]
  },
  {
   "cell_type": "code",
   "execution_count": null,
   "metadata": {},
   "outputs": [],
   "source": [
    "# 2.1.7. Which type of food (rcuisine) is served most among the restaurants?\n",
    "engine.execute(\"Select Rcuisine,MAX(cuisineCoint) from (SELECT count(Rcuisine) as cuisineCoint,Rcuisine from (SELECT distinct placeID,Rcuisine FROM restaurants) group by Rcuisine)\").fetchall()"
   ]
  },
  {
   "cell_type": "code",
   "execution_count": null,
   "metadata": {},
   "outputs": [],
   "source": [
    "# 2.1.8. What is the percentage of customers who were born between 1980 and 1990?\n",
    "engine.execute('''select (select count(*) from(SELECT distinct userID FROM customers where birth_year>=1980 and birth_year<=1990) as filteredCustomers) *100 /\n",
    "                 (select count(userID) from (SELECT distinct userID FROM customers))''').fetchall()\n",
    "\n"
   ]
  },
  {
   "cell_type": "code",
   "execution_count": null,
   "metadata": {},
   "outputs": [],
   "source": [
    "# 2.1.9. What is the percentage of students with a medium budget preferring walking to the restaurants?\n",
    "\n",
    "engine.execute(''' SELECT (SELECT count(*) from ( SELECT distinct userID FROM customers where transport=\"on foot\" and budget=\"medium\")) *100 /\n",
    "                  (SELECT count(*) from ( SELECT distinct userID FROM customers where budget=\"medium\") )''').fetchall()\n"
   ]
  },
  {
   "cell_type": "markdown",
   "metadata": {},
   "source": [
    "### Assignment3- Part 2:"
   ]
  },
  {
   "cell_type": "code",
   "execution_count": null,
   "metadata": {},
   "outputs": [],
   "source": [
    "# 2.2.1. What are the names of restaurants that do not have public parking lots?\n",
    "engine.execute(\"SELECT distinct name FROM restaurants where parking_lot!='public'\").fetchall()\n"
   ]
  },
  {
   "cell_type": "code",
   "execution_count": null,
   "metadata": {},
   "outputs": [],
   "source": [
    "# 2.2.2. What are the addresses of restaurants which only accept ‘cash’?\n",
    "engine.execute(\" SELECT address from (SELECT  distinct placeid,address FROM restaurants where Rpayment='cash') \").fetchall()\n",
    "\n"
   ]
  },
  {
   "cell_type": "code",
   "execution_count": null,
   "metadata": {},
   "outputs": [],
   "source": [
    "# 2.2.3. Name the cities where the restaurants cook and serve ‘fast food’?\n",
    "\n",
    "engine.execute(\"SELECT distinct city from restaurants where placeID in (SELECT distinct placeID FROM restaurants where Rcuisine='Fast_Food')\").fetchall()\n",
    "\n"
   ]
  },
  {
   "cell_type": "code",
   "execution_count": null,
   "metadata": {},
   "outputs": [],
   "source": [
    "# 2.2.4. What is the most common ‘rating’ among customers with family?\n",
    "engine.execute(\"SELECT rating from (Select MAX(ratingcount),rating from (SELECT count(rating) as ratingcount,rating from rating where userID in (SELECT distinct customers.userID  FROM customers where ambience='family') group by rating))\").fetchall()\n"
   ]
  },
  {
   "cell_type": "code",
   "execution_count": null,
   "metadata": {},
   "outputs": [],
   "source": [
    "# 2.2.5. What types of food (‘rcuisine’) received the highest rank from people with‘low’ budget?\n",
    "\n",
    "engine.execute(''' SELECT MAX(totalRating),Rcuisine from \n",
    "                   (select Rcuisine,sum(food_rating) as totalRating from \n",
    "                   (Select * from (SELECT distinct userID as userID1, Rcuisine from customers)  left join \n",
    "                   rating on rating.userID=userId1 where \n",
    "                   userID1 in (SELECT distinct userID from customers where budget='low'))\n",
    "                   group by Rcuisine)''').fetchall()\n",
    "\n",
    "\n"
   ]
  },
  {
   "cell_type": "code",
   "execution_count": null,
   "metadata": {},
   "outputs": [],
   "source": [
    "# 2.2.6. What is the average of ‘service rating’, received from ‘social drinkers’ about restaurants which just served ‘Wine-Beer’?\n",
    "\n",
    "# three layer nested select where the firsr select finds avverage\n",
    "# the middle select finds the customer who are social drinkers and the third restourants which serve alchohal\n",
    "\n",
    "\n",
    "engine.execute(\" SELECT AVG(service_rating) from rating where userID in (SELECT distinct userID from  customers where drink_level='social drinker') and placeID in (SELECT distinct placeID from  restaurants where alcohol='Wine-Beer')\").fetchall()\n"
   ]
  },
  {
   "cell_type": "code",
   "execution_count": null,
   "metadata": {},
   "outputs": [],
   "source": [
    "# 2.2.7. How many smokers gave zero ‘service rating’ to the restaurants without an open area?\n",
    "\n",
    "\n",
    "engine.execute('''select count(userID) from (SELECT  distinct userID from customers where smoker=\"true\" and userID in \n",
    "                 (SELECT userID from rating where service_rating=0 and placeID in \n",
    "                 (SELECT distinct placeID from restaurants where area!=\"open\")))''').fetchall()\n"
   ]
  },
  {
   "cell_type": "code",
   "execution_count": null,
   "metadata": {},
   "outputs": [],
   "source": []
  }
 ],
 "metadata": {
  "kernelspec": {
   "display_name": "Python 3",
   "language": "python",
   "name": "python3"
  },
  "language_info": {
   "codemirror_mode": {
    "name": "ipython",
    "version": 3
   },
   "file_extension": ".py",
   "mimetype": "text/x-python",
   "name": "python",
   "nbconvert_exporter": "python",
   "pygments_lexer": "ipython3",
   "version": "3.6.5"
  }
 },
 "nbformat": 4,
 "nbformat_minor": 2
}
