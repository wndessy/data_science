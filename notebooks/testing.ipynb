{
 "cells": [
  {
   "cell_type": "code",
   "execution_count": 94,
   "metadata": {},
   "outputs": [
    {
     "data": {
      "text/plain": [
       "Timedelta('2 days 00:00:00')"
      ]
     },
     "execution_count": 94,
     "metadata": {},
     "output_type": "execute_result"
    }
   ],
   "source": [
    "import pandas as pd\n",
    "import numpy as np\n",
    " \n",
    "#Create a Dictionary of series\n",
    "d = {'Name':pd.Series(['Tom','James','Ricky','Vin','Steve','Smith','Jack',\n",
    "   'Lee','David','Gasper','Betina','Andres']),\n",
    "   'Age':pd.Series([25,26,25,23,30,29,23,34,40,30,51,46]),\n",
    "   'Rating':pd.Series([4.23,3.24,3.98,2.56,3.20,4.6,3.8,3.78,2.98,4.80,4.10,3.65])}\n",
    "\n",
    "#Create a DataFrame\n",
    "df = pd.DataFrame(d)\n",
    "df.sum()\n",
    "df.describe(include='all')\n",
    "df.drop([2,3]) #you can add inplace parameter\n",
    "# Drops columns 0, 3\n",
    "df1.drop([1,2], axis=0)\n",
    "# Table-wise Function Application pipe()\n",
    "def adder(ele1,ele2):\n",
    "    return ele1+ele2\n",
    "df1 = pd.DataFrame(np.random.randn(5,3),columns=['col1','col2','col3'])\n",
    "df1.pipe(adder,2)\n",
    "# Row/collumn-wise Function Application pipe()\n",
    "df2 = pd.DataFrame(np.random.randn(5,3),columns=['col1','col2','col3'])\n",
    "df2.apply(np.sum , axis=0)\n",
    "# Element Wise Function Application\n",
    "df2['col1'].map(lambda x:x+100)\n",
    "# Working with Text Data\n",
    "# Options and Customization\n",
    "# Python Pandas - Indexing and Selecting Data loc\n",
    "df.loc[:,'Name']\n",
    "df.loc[:,['Name','Age']]\n",
    "df.loc[[5,3,7],:]\n",
    "df.loc[5,'Name']\n",
    "df.loc[5,['Name','Age']]\n",
    "df.loc[[5,3,1],['Name','Age']]\n",
    "df.loc[1:3]#a range of rows for all collumsa\n",
    "df.loc[2:4,['Age','Rating']]>0\n",
    "\n",
    "# .iloc() integer based\n",
    "df.iloc[:2,:1]\n",
    "df.iloc[1:2,2:3]\n",
    "# .ix() hybrid\n",
    "# df.ix[:,'Name']\n",
    "\n",
    "#Descriptive statistics\n",
    "df.mode(axis=0,numeric_only=True)\n",
    "# Python Pandas - Comparison with SQL\n",
    "df[['Name', 'Age', 'Rating',]].head(5) # select top five\n",
    "df[df['Age']==25] # select where age=25\n",
    "df.groupby('Age').size() #select group by\n",
    "df[(df['Age']==25)][['Age','Rating']] # select Age,Rating where age=25\n",
    "\n",
    "\n",
    "# Python Pandas - Timedelta\n",
    "pd.Timedelta('2 days 2 hours 15 minutes 30 seconds') #string\n",
    "pd.Timedelta(6,unit='h')#integer\n",
    "pd.Timedelta(days=2) #data offsets\n"
   ]
  },
  {
   "cell_type": "code",
   "execution_count": null,
   "metadata": {},
   "outputs": [],
   "source": []
  },
  {
   "cell_type": "code",
   "execution_count": null,
   "metadata": {},
   "outputs": [],
   "source": []
  }
 ],
 "metadata": {
  "kernelspec": {
   "display_name": "Python 3",
   "language": "python",
   "name": "python3"
  },
  "language_info": {
   "codemirror_mode": {
    "name": "ipython",
    "version": 3
   },
   "file_extension": ".py",
   "mimetype": "text/x-python",
   "name": "python",
   "nbconvert_exporter": "python",
   "pygments_lexer": "ipython3",
   "version": "3.6.5"
  }
 },
 "nbformat": 4,
 "nbformat_minor": 2
}
