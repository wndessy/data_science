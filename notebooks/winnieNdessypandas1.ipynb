{
 "cells": [
  {
   "cell_type": "code",
   "execution_count": 37,
   "metadata": {},
   "outputs": [],
   "source": [
    "import pandas as pd\n",
    "import numpy as np\n",
    "import pprint as pprint\n",
    "import time\n"
   ]
  },
  {
   "cell_type": "markdown",
   "metadata": {},
   "source": [
    "### Loadind data from csv files into datafreames\n"
   ]
  },
  {
   "cell_type": "code",
   "execution_count": 38,
   "metadata": {},
   "outputs": [],
   "source": [
    "# Restaurants\n",
    "dfaccepts=pd.read_csv(filepath_or_buffer='Restaurant-data/chefmozaccepts.csv',encoding='ascii')\n",
    "dfcuisine=pd.read_csv(filepath_or_buffer='Restaurant-data/chefmozcuisine.csv',encoding='utf8')\n",
    "dfhours4=pd.read_csv(filepath_or_buffer='Restaurant-data/chefmozhours4.csv',encoding='utf8')\n",
    "dfparkingdata2=pd.read_csv('Restaurant-data/chefmozparking.csv')\n",
    "dfgeoplaces=pd.read_csv(filepath_or_buffer='Restaurant-data/geoplaces2.csv',encoding='latin-1')\n",
    "# # consumers\n",
    "dfusercuisine=pd.read_csv('Restaurant-data/usercuisine.csv')\n",
    "dfuserpayment=pd.read_csv('Restaurant-data/userpayment.csv')\n",
    "dfuserprofile=pd.read_csv('Restaurant-data/userprofile.csv')\n",
    "# user item rating\n",
    "dfrating=pd.read_csv('Restaurant-data/rating_final.csv')\n"
   ]
  },
  {
   "cell_type": "markdown",
   "metadata": {},
   "source": [
    "###  Data cleaning"
   ]
  },
  {
   "cell_type": "code",
   "execution_count": 42,
   "metadata": {},
   "outputs": [
    {
     "data": {
      "text/plain": [
       "0"
      ]
     },
     "execution_count": 42,
     "metadata": {},
     "output_type": "execute_result"
    }
   ],
   "source": [
    "# To perform general cleaning on all datasets and inspecting\n",
    "def cleandf(data):\n",
    "    data.replace('?',np.NaN,inplace=True)\n",
    "#     print('no. of DUBLICATES', data.duplicated().sum(axis=0))\n",
    "#     print('NULL ROWS',data.isnull().sum(axis=0))\n",
    "    data.drop_duplicates(inplace = True)\n",
    "    adult['sex'].map(lambda x: x.lower()).head()\n",
    "#     print(data.shape)\n",
    "    return 0\n",
    "cleandf(dfaccepts)\n",
    "cleandf(dfgeoplaces)\n",
    "cleandf(dfparkingdata2)\n",
    "cleandf(dfhours4)\n",
    "cleandf(dfcuisine)\n",
    "cleandf(dfusercuisine)\n",
    "cleandf(dfuserpayment)\n",
    "cleandf(dfuserprofile)\n",
    "cleandf(dfrating)\n",
    "\n",
    "\n"
   ]
  },
  {
   "cell_type": "code",
   "execution_count": 43,
   "metadata": {},
   "outputs": [
    {
     "data": {
      "text/plain": [
       "0"
      ]
     },
     "execution_count": 43,
     "metadata": {},
     "output_type": "execute_result"
    }
   ],
   "source": [
    "# data cleaning geoplaces\n",
    "def cleandfgeoplaces():\n",
    "    dfgeoplaces.isnull().sum(axis=0)\n",
    "    # Drop null collunms bellow a given threshhod here 74. Removes zip,url and fax\n",
    "    dfgeoplaces.dropna(thresh=74,axis=1,inplace=True)\n",
    "    #removing spaces\n",
    "    stripped=dfgeoplaces.select_dtypes(include='object').apply(lambda x: x.str.strip())\n",
    "#resolve city naming diferencesas a result of typo \n",
    "    typofreeCity= stripped.city.map(lambda x : \n",
    "            'San Luis Potosi' if (x=='s.l.p.') |(x=='s.l.p')| (x=='san luis potos' )| (x=='slp') | (x=='san luis potosi')else\n",
    "            'Ciudad Victoria' if (x=='Cd. Victoria') | (x=='victoria') | (x=='Cd Victoria') | (x=='Victoria') else x)\n",
    "    stripped.city=typofreeCity\n",
    "#resolve state naming diferencesas a result of typo \n",
    "    typofreeState= stripped.state.map(lambda x : \n",
    "            'San Luis Potosi' if (x=='s.l.p.') |(x=='s.l.p')| (x=='san luis potos' )| (x=='slp') | (x=='san luis potosi')| (x=='SLP') | (x=='S.L.P.')else\n",
    "            'Ciudad Victoria' if (x=='Cd. Victoria') | (x=='victoria') | (x=='Cd Victoria') | (x=='Victoria') else x)\n",
    "    stripped.state=typofreeState\n",
    "# fill all null country collumn with mexico\n",
    "    stripped.country.fillna('Mexico')\n",
    "    dfgeoplaces[list(dfgeoplaces.select_dtypes(include='object').columns.values)]=stripped\n",
    "    return 0\n",
    "cleandfgeoplaces()\n",
    "\n"
   ]
  },
  {
   "cell_type": "code",
   "execution_count": 44,
   "metadata": {},
   "outputs": [],
   "source": [
    "import re\n",
    "def dfhours4clean():\n",
    "#    removing multiple ranges data fro hours collumn\n",
    "    dfhours4.hours=dfhours4.hours.map(lambda x:re.split(';',x)[0])\n",
    "#     dfhours4.hours.\n",
    "    fromto = pd.DataFrame(dfhours4.hours.str.split('-',1).tolist(), columns = ['fromhour','tohour'])\n",
    "    hourRange=pd.concat([dfhours4, fromto], axis=1, sort=False)\n",
    "    return hourRange \n",
    "dfhours4clean()\n",
    "dfhours41=dfhours4clean()\n"
   ]
  },
  {
   "cell_type": "markdown",
   "metadata": {},
   "source": [
    "### Queries"
   ]
  },
  {
   "cell_type": "markdown",
   "metadata": {},
   "source": [
    "#### Assignment2  Part 1:"
   ]
  },
  {
   "cell_type": "code",
   "execution_count": 45,
   "metadata": {},
   "outputs": [
    {
     "data": {
      "text/html": [
       "<div>\n",
       "<style scoped>\n",
       "    .dataframe tbody tr th:only-of-type {\n",
       "        vertical-align: middle;\n",
       "    }\n",
       "\n",
       "    .dataframe tbody tr th {\n",
       "        vertical-align: top;\n",
       "    }\n",
       "\n",
       "    .dataframe thead th {\n",
       "        text-align: right;\n",
       "    }\n",
       "</style>\n",
       "<table border=\"1\" class=\"dataframe\">\n",
       "  <thead>\n",
       "    <tr style=\"text-align: right;\">\n",
       "      <th></th>\n",
       "      <th>name</th>\n",
       "    </tr>\n",
       "  </thead>\n",
       "  <tbody>\n",
       "    <tr>\n",
       "      <th>3</th>\n",
       "      <td>little pizza Emilio Portes Gil</td>\n",
       "    </tr>\n",
       "    <tr>\n",
       "      <th>19</th>\n",
       "      <td>TACOS EL GUERO</td>\n",
       "    </tr>\n",
       "    <tr>\n",
       "      <th>73</th>\n",
       "      <td>palomo tec</td>\n",
       "    </tr>\n",
       "    <tr>\n",
       "      <th>76</th>\n",
       "      <td>TACOS CORRECAMINOS</td>\n",
       "    </tr>\n",
       "    <tr>\n",
       "      <th>103</th>\n",
       "      <td>Carnitas Mata  Calle 16 de Septiembre</td>\n",
       "    </tr>\n",
       "    <tr>\n",
       "      <th>106</th>\n",
       "      <td>puesto de gorditas</td>\n",
       "    </tr>\n",
       "    <tr>\n",
       "      <th>109</th>\n",
       "      <td>carnitas mata calle Emilio Portes Gil</td>\n",
       "    </tr>\n",
       "    <tr>\n",
       "      <th>122</th>\n",
       "      <td>tacos abi</td>\n",
       "    </tr>\n",
       "    <tr>\n",
       "      <th>123</th>\n",
       "      <td>la perica hamburguesa</td>\n",
       "    </tr>\n",
       "  </tbody>\n",
       "</table>\n",
       "</div>"
      ],
      "text/plain": [
       "                                      name\n",
       "3           little pizza Emilio Portes Gil\n",
       "19                          TACOS EL GUERO\n",
       "73                              palomo tec\n",
       "76                      TACOS CORRECAMINOS\n",
       "103  Carnitas Mata  Calle 16 de Septiembre\n",
       "106                     puesto de gorditas\n",
       "109  carnitas mata calle Emilio Portes Gil\n",
       "122                              tacos abi\n",
       "123                  la perica hamburguesa"
      ]
     },
     "execution_count": 45,
     "metadata": {},
     "output_type": "execute_result"
    }
   ],
   "source": [
    "# 2.1.3. What are the names of different restaurants in the state of ‘tamaulipas’?\n",
    "# select where name is tamaulipas\n",
    "dfgeoplaces.loc[:,['name']][(dfgeoplaces.state=='tamaulipas')]\n"
   ]
  },
  {
   "cell_type": "code",
   "execution_count": 46,
   "metadata": {},
   "outputs": [
    {
     "data": {
      "text/plain": [
       "82"
      ]
     },
     "execution_count": 46,
     "metadata": {},
     "output_type": "execute_result"
    }
   ],
   "source": [
    "# 2.1.4. How many different customers used public transport for going to therestaurants?\n",
    "len(dfuserprofile[dfuserprofile['transport']=='public'])\n"
   ]
  },
  {
   "cell_type": "code",
   "execution_count": 47,
   "metadata": {},
   "outputs": [
    {
     "data": {
      "text/plain": [
       "('American_Express',     userID          Upayment\n",
       " 35   U1031  American_Express\n",
       " 48   U1041  American_Express\n",
       " 119  U1093  American_Express)"
      ]
     },
     "execution_count": 47,
     "metadata": {},
     "output_type": "execute_result"
    }
   ],
   "source": [
    "# 2.1.5. What is the least popular payment method among customers?\n",
    "min(dfuserpayment.groupby('Upayment'))\n"
   ]
  },
  {
   "cell_type": "code",
   "execution_count": 48,
   "metadata": {},
   "outputs": [
    {
     "data": {
      "text/plain": [
       "48"
      ]
     },
     "execution_count": 48,
     "metadata": {},
     "output_type": "execute_result"
    }
   ],
   "source": [
    "# 2.1.6. How many (different) restaurants work until 19:00 in the evenings?\n",
    "\n",
    "# Clean the hours dataframe before using it to query\n",
    "dfcleanHours4=dfhours4clean()\n",
    "len(dfhours41[['placeID']][dfhours41.tohour=='19:00'])\n"
   ]
  },
  {
   "cell_type": "code",
   "execution_count": 49,
   "metadata": {},
   "outputs": [
    {
     "data": {
      "text/html": [
       "<div>\n",
       "<style scoped>\n",
       "    .dataframe tbody tr th:only-of-type {\n",
       "        vertical-align: middle;\n",
       "    }\n",
       "\n",
       "    .dataframe tbody tr th {\n",
       "        vertical-align: top;\n",
       "    }\n",
       "\n",
       "    .dataframe thead th {\n",
       "        text-align: right;\n",
       "    }\n",
       "</style>\n",
       "<table border=\"1\" class=\"dataframe\">\n",
       "  <thead>\n",
       "    <tr style=\"text-align: right;\">\n",
       "      <th></th>\n",
       "      <th>Rcuisine</th>\n",
       "    </tr>\n",
       "  </thead>\n",
       "  <tbody>\n",
       "    <tr>\n",
       "      <th>0</th>\n",
       "      <td>Mexican</td>\n",
       "    </tr>\n",
       "  </tbody>\n",
       "</table>\n",
       "</div>"
      ],
      "text/plain": [
       "  Rcuisine\n",
       "0  Mexican"
      ]
     },
     "execution_count": 49,
     "metadata": {},
     "output_type": "execute_result"
    }
   ],
   "source": [
    "# 2.1.7. Which type of food (rcuisine) is served most among the restaurants?\n",
    "dfcuisine[['Rcuisine']].mode()\n"
   ]
  },
  {
   "cell_type": "code",
   "execution_count": 50,
   "metadata": {},
   "outputs": [
    {
     "data": {
      "text/plain": [
       "63.04347826086957"
      ]
     },
     "execution_count": 50,
     "metadata": {},
     "output_type": "execute_result"
    }
   ],
   "source": [
    "# 2.1.8. What is the percentage of customers who were born between 1980 and 1990?\n",
    "len(dfuserprofile[(dfuserprofile.birth_year>=1980) & (dfuserprofile.birth_year<=1990)])/len(dfuserprofile)*100"
   ]
  },
  {
   "cell_type": "code",
   "execution_count": 51,
   "metadata": {},
   "outputs": [
    {
     "data": {
      "text/plain": [
       "9.89010989010989"
      ]
     },
     "execution_count": 51,
     "metadata": {},
     "output_type": "execute_result"
    }
   ],
   "source": [
    "# 2.1.9. What is the percentage of students with a medium budget preferring walking to the restaurants?\n",
    "len(dfuserprofile[(dfuserprofile.budget=='medium') &(dfuserprofile.transport=='on foot')])/len(dfuserprofile[(dfuserprofile.budget=='medium')])*100\n"
   ]
  },
  {
   "cell_type": "markdown",
   "metadata": {},
   "source": [
    "#### Assignment2  Part 2:"
   ]
  },
  {
   "cell_type": "code",
   "execution_count": 52,
   "metadata": {},
   "outputs": [
    {
     "data": {
      "text/plain": [
       "0                                        Kiku Cuernavaca\n",
       "1                                        puesto de tacos\n",
       "2                             El Rincón de San Francisco\n",
       "3                         little pizza Emilio Portes Gil\n",
       "4                                          carnitas_mata\n",
       "5                               Restaurant los Compadres\n",
       "6                                      Taqueria EL amigo\n",
       "7                                              shi ro ie\n",
       "8                               Pollo_Frito_Buenos_Aires\n",
       "9                                   la Estrella de Dimas\n",
       "10                                        Restaurante 75\n",
       "11                             Abondance Restaurante Bar\n",
       "12                                  El angel Restaurante\n",
       "13                             Restaurante Pueblo Bonito\n",
       "14                           Mcdonalds Parque Tangamanga\n",
       "15                        Tortas y hamburguesas el gordo\n",
       "16                                               Sirlone\n",
       "17                                            rockabilly\n",
       "18                                         Unicols Pizza\n",
       "19                                        TACOS EL GUERO\n",
       "20                      Restaurant El Muladar de Calzada\n",
       "21                                  La Posada del Virrey\n",
       "22     Restaurant and Bar and Clothesline Carlos N Ch...\n",
       "23                                                   KFC\n",
       "24                                             Giovannis\n",
       "25                           Restaurant Oriental Express\n",
       "26                                    Mariscos Tia Licha\n",
       "27                                            cafe ambar\n",
       "28                               Restaurante la Gran Via\n",
       "29                                          don burguers\n",
       "                             ...                        \n",
       "84                                    tacos los volcanes\n",
       "85                                         Little Cesarz\n",
       "86                                  cafe punta del cielo\n",
       "87                                  tacos de la estacion\n",
       "88                                  Restaurant Orizatlan\n",
       "89                          Restaurant Familiar El Chino\n",
       "90                       Restaurant de Mariscos de Picon\n",
       "91                                  Sanborns Casa Piedra\n",
       "92                                         pizza clasica\n",
       "93                 Carnitas Mata  Calle 16 de Septiembre\n",
       "94                   Restaurante de Mariscos la Langosta\n",
       "95                          Restaurante Bar El Gallinero\n",
       "96                                               Log Yin\n",
       "97                                  Mariscos El Pescador\n",
       "98                 carnitas mata calle Emilio Portes Gil\n",
       "99                                              crudalia\n",
       "100                             Restaurant Las Mananitas\n",
       "101                        Restaurante El Cielo Potosino\n",
       "102                                               Mikasa\n",
       "103                                      Cabana Huasteca\n",
       "104                                   Gorditas Dona Tota\n",
       "105                                          La Virreina\n",
       "106                                            tacos abi\n",
       "107                                la perica hamburguesa\n",
       "108                                     McDonalds Centro\n",
       "109                                              Chaires\n",
       "110                                           Sushi Itto\n",
       "111                                            Paniroles\n",
       "112                          Restaurant Bar Coty y Pablo\n",
       "113                                     sirloin stockade\n",
       "Name: name, Length: 114, dtype: object"
      ]
     },
     "execution_count": 52,
     "metadata": {},
     "output_type": "execute_result"
    }
   ],
   "source": [
    "# 2.2.1. What are the names of restaurants that do not have public parking lots?\n",
    "dfgeoplaces[['placeID','name']].merge(dfparkingdata2[dfparkingdata2.parking_lot!='public'],how='inner',on='placeID').name\n",
    "# dfgeoplaces"
   ]
  },
  {
   "cell_type": "code",
   "execution_count": 53,
   "metadata": {},
   "outputs": [
    {
     "data": {
      "text/plain": [
       "0         esquina santos degollado y leon guzman\n",
       "1                                Universidad 169\n",
       "2                        calle emilio portes gil\n",
       "3                         lic. Emilio portes gil\n",
       "4                 Camino a Simon Diaz 155 Centro\n",
       "5               Calle Mezquite Fracc Framboyanes\n",
       "6                                            NaN\n",
       "7                                        tampico\n",
       "8              Villa de Pozos 192 Villa de Pozos\n",
       "9             Villa de Pozos 4497 Villa de Pozos\n",
       "10                   Industrias 908 Valle Dorado\n",
       "11               Venustiano Carranza 1625 Jardin\n",
       "12                       Mexico 2015 Providencia\n",
       "13           Lateral Salvador Nava Martinez 3145\n",
       "14                              Ricardo B. Anaya\n",
       "15                                  carr. mexico\n",
       "16                           agustin de iturbide\n",
       "17                              Plaza del Carmen\n",
       "18                De Guadalupe 460 San Miguelito\n",
       "19                               Av. V. Carranza\n",
       "20                    Domingo 10 711 El Empleado\n",
       "21                                           NaN\n",
       "22                   40 Norte Civac 1RA. Seccion\n",
       "23                       Tangamanga 7 Tangamanga\n",
       "24                      avenida salvador montiel\n",
       "25                Venustiano Carranza 560 Centro\n",
       "26                     r.b. anaya esq. florencia\n",
       "27     Ricardo B. Anaya 2700 Estrella de Oriente\n",
       "28                                           NaN\n",
       "29                         Satelite 606 Satelite\n",
       "                         ...                    \n",
       "83                        avenida hivno nacional\n",
       "84                                           NaN\n",
       "85                                           NaN\n",
       "86                                           NaN\n",
       "87                      Pascual M. Hernandez 240\n",
       "88                          Paseo de las Fuentes\n",
       "89                     Miguel Barragan 46 Centro\n",
       "90                             Lomas del Mirador\n",
       "91                           Av. de los Pintores\n",
       "92               524 Soledad de Graciano Sanchez\n",
       "93        Cordillera de Los Alpes 675 Loma Verde\n",
       "94               Pascual M. Hernandez 210 Centro\n",
       "95                         frente al tecnologico\n",
       "96                Himno Nacional 2104 Tangamanga\n",
       "97                                           NaN\n",
       "98                                           NaN\n",
       "99                Julian de Los Reyes 400 Centro\n",
       "100             Himno nacional esq. Blvd. Juarez\n",
       "101                Interior Internado Palmira SN\n",
       "102                              Munoz Sn Centro\n",
       "103                               Cuauhtemoc 455\n",
       "104                                          NaN\n",
       "105                      Constitucion 200 Centro\n",
       "106                             Av. Carranza 830\n",
       "107               Venustiano Carranza 719 Centro\n",
       "108                                          NaN\n",
       "109                         Rayon sn col. Centro\n",
       "110                             Ricardo B. Anaya\n",
       "111           Venustiano Carranza 1809 C Polanco\n",
       "112                                          NaN\n",
       "Name: address, Length: 113, dtype: object"
      ]
     },
     "execution_count": 53,
     "metadata": {},
     "output_type": "execute_result"
    }
   ],
   "source": [
    "# 2.2.2. What are the addresses of restaurants which only accept ‘cash’?\n",
    "dfgeoplaces.merge(dfaccepts[dfaccepts.Rpayment=='cash'],on='placeID',how='inner').address\n"
   ]
  },
  {
   "cell_type": "code",
   "execution_count": 54,
   "metadata": {},
   "outputs": [
    {
     "data": {
      "text/plain": [
       "0    Ciudad Victoria\n",
       "1    San Luis Potosi\n",
       "2    San Luis Potosi\n",
       "3    San Luis Potosi\n",
       "4         Cuernavaca\n",
       "5                NaN\n",
       "6            Soledad\n",
       "7    San Luis Potosi\n",
       "Name: city, dtype: object"
      ]
     },
     "execution_count": 54,
     "metadata": {},
     "output_type": "execute_result"
    }
   ],
   "source": [
    "# 2.2.3. Name the cities where the restaurants cook and serve ‘fast food’?\n",
    "\n",
    "dfgeoplaces[['placeID','city']].merge(dfcuisine[dfcuisine.Rcuisine=='Fast_Food'],how='inner',on='placeID').city ##names not distict=== to add distinct\n"
   ]
  },
  {
   "cell_type": "code",
   "execution_count": 55,
   "metadata": {},
   "outputs": [
    {
     "data": {
      "text/plain": [
       "0    2\n",
       "dtype: int64"
      ]
     },
     "execution_count": 55,
     "metadata": {},
     "output_type": "execute_result"
    }
   ],
   "source": [
    "# 2.2.4. What is the most common ‘rating’ among customers with family?\n",
    "\n",
    "dfrating[['userID','rating']].merge(dfuserprofile[dfuserprofile.ambience=='family'],on='userID',how='inner').rating.mode()\n"
   ]
  },
  {
   "cell_type": "code",
   "execution_count": 56,
   "metadata": {},
   "outputs": [
    {
     "data": {
      "text/plain": [
       "'Mexican'"
      ]
     },
     "execution_count": 56,
     "metadata": {},
     "output_type": "execute_result"
    }
   ],
   "source": [
    "# 2.2.5. What types of food (‘rcuisine’) received the highest rank from people with‘low’ budget?\n",
    "\n",
    "#filter each dataset by conditions and merging the filtered datasets \n",
    "food=dfcuisine.merge(dfrating[['userID','placeID','food_rating']],on='placeID',how='left').merge(dfuserprofile[['userID','budget']][dfuserprofile.budget=='low'],on='userID',how='inner')\n",
    "#grouping the merged output by rquisin and getting sum for each cuisine\n",
    "groupedSum=food.groupby('Rcuisine').sum()\n",
    "#get the maximum Id value based on the collum foodrating\n",
    "groupedSum.food_rating.idxmax()\n"
   ]
  },
  {
   "cell_type": "code",
   "execution_count": 57,
   "metadata": {},
   "outputs": [
    {
     "data": {
      "text/plain": [
       "1.3863636363636365"
      ]
     },
     "execution_count": 57,
     "metadata": {},
     "output_type": "execute_result"
    }
   ],
   "source": [
    "# 2.2.6. What is the average of ‘service rating’, received from ‘social drinkers’ about restaurants which just served ‘Wine-Beer’?\n",
    "\n",
    "# getting service rating for social drinkers\n",
    "label=dfrating[['userID','placeID','service_rating']].merge(dfuserprofile[['drink_level','userID']][dfuserprofile.drink_level=='social drinker'],on='userID',how='inner')\n",
    "label2=label.merge(dfgeoplaces[['placeID']][dfgeoplaces.alcohol=='Wine-Beer'],on='placeID',how='inner')\n",
    "#calculating the average\n",
    "label2.service_rating.mean(axis=0)\n"
   ]
  },
  {
   "cell_type": "code",
   "execution_count": 59,
   "metadata": {},
   "outputs": [
    {
     "data": {
      "text/plain": [
       "44"
      ]
     },
     "execution_count": 59,
     "metadata": {},
     "output_type": "execute_result"
    }
   ],
   "source": [
    "# 2.2.7. How many smokers gave zero ‘service rating’ to the restaurants without an open area?\n",
    "len(dfuserprofile[dfuserprofile.smoker=='true'].merge(dfrating[dfrating.service_rating==0], on='userID',how='inner').merge(dfgeoplaces[dfgeoplaces.area!='open'],on='placeID',how='inner'))\n"
   ]
  },
  {
   "cell_type": "code",
   "execution_count": 60,
   "metadata": {},
   "outputs": [
    {
     "name": "stdout",
     "output_type": "stream",
     "text": [
      "between price and general rating=  0.09074519223574697\n",
      "between price and food rating=  0.0510812284528916\n",
      "between price and Service rating=  0.11869614600979307\n"
     ]
    }
   ],
   "source": [
    "# 2.2.8. Find the correlation between different rating categories ((general) rating, food_rating, service_rating) with the price levels of the restaurants.\n",
    "# Hint: To answer the last question, you need to change the type of attribute values\n",
    "\n",
    "restaurantsRating=dfgeoplaces[['placeID','price']].merge(dfrating, on='placeID', how='inner')\n",
    "# from categorical to numerical.\n",
    "price=restaurantsRating.price.map(lambda x: 1 if x == 'low' else 2 if x=='medium' else 3 ) # let 1=low ,2=medium,3=high\n",
    "\n",
    "print('between price and general rating= ',price.corr(restaurantsRating.rating))\n",
    "print('between price and food rating= ',price.corr(restaurantsRating.food_rating))\n",
    "print ('between price and Service rating= ',price.corr(restaurantsRating.service_rating))\n"
   ]
  },
  {
   "cell_type": "code",
   "execution_count": null,
   "metadata": {},
   "outputs": [],
   "source": []
  },
  {
   "cell_type": "code",
   "execution_count": null,
   "metadata": {},
   "outputs": [],
   "source": []
  }
 ],
 "metadata": {
  "kernelspec": {
   "display_name": "Python 3",
   "language": "python",
   "name": "python3"
  },
  "language_info": {
   "codemirror_mode": {
    "name": "ipython",
    "version": 3
   },
   "file_extension": ".py",
   "mimetype": "text/x-python",
   "name": "python",
   "nbconvert_exporter": "python",
   "pygments_lexer": "ipython3",
   "version": "3.6.5"
  }
 },
 "nbformat": 4,
 "nbformat_minor": 2
}
